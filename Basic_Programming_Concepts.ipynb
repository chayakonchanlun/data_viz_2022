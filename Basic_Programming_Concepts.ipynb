{
  "nbformat": 4,
  "nbformat_minor": 0,
  "metadata": {
    "colab": {
      "name": "Basic_Programming_Concepts.ipynb",
      "provenance": [],
      "authorship_tag": "ABX9TyN+3v4b7RLvDh+l8eQaNKhs",
      "include_colab_link": true
    },
    "kernelspec": {
      "name": "python3",
      "display_name": "Python 3"
    },
    "language_info": {
      "name": "python"
    }
  },
  "cells": [
    {
      "cell_type": "markdown",
      "metadata": {
        "id": "view-in-github",
        "colab_type": "text"
      },
      "source": [
        "<a href=\"https://colab.research.google.com/github/chayakonchanlun/data_viz_2022/blob/main/Basic_Programming_Concepts.ipynb\" target=\"_parent\"><img src=\"https://colab.research.google.com/assets/colab-badge.svg\" alt=\"Open In Colab\"/></a>"
      ]
    },
    {
      "cell_type": "markdown",
      "source": [
        "# Functions ($f(x)=y$)"
      ],
      "metadata": {
        "id": "a_9rgy6UDmwU"
      }
    },
    {
      "cell_type": "markdown",
      "source": [
        "```python\n",
        "def function_name(input_x):\n",
        "  #do something with input_x to get output_y\n",
        "  return output_y\n",
        "```\n",
        "\n"
      ],
      "metadata": {
        "id": "dmcUmM3jEMC-"
      }
    },
    {
      "cell_type": "markdown",
      "source": [
        "$f_1(x) = x^2 + 75$"
      ],
      "metadata": {
        "id": "4R9Hx1wSF0eW"
      }
    },
    {
      "cell_type": "code",
      "source": [
        "def function_f1(x):\n",
        "  a = x**2\n",
        "  y = a + 75\n",
        "  return y\n",
        "\n",
        "print('done!')"
      ],
      "metadata": {
        "colab": {
          "base_uri": "https://localhost:8080/"
        },
        "id": "BjlBfFPtD8S3",
        "outputId": "b83f6a51-66fd-48c3-c460-31aedfdacf44"
      },
      "execution_count": null,
      "outputs": [
        {
          "output_type": "stream",
          "name": "stdout",
          "text": [
            "done!\n"
          ]
        }
      ]
    },
    {
      "cell_type": "code",
      "source": [
        "function_f1(3)"
      ],
      "metadata": {
        "colab": {
          "base_uri": "https://localhost:8080/"
        },
        "id": "wi90j2jGGYm6",
        "outputId": "c303669a-a8c8-4186-cb56-77aad0e795f6"
      },
      "execution_count": null,
      "outputs": [
        {
          "output_type": "execute_result",
          "data": {
            "text/plain": [
              "84"
            ]
          },
          "metadata": {},
          "execution_count": 2
        }
      ]
    },
    {
      "cell_type": "markdown",
      "source": [
        "Function มีส่วนสำคัญทั้งหมด 4 ส่วน\n",
        "\n",
        "1. บอก python ว่าเราจะเขียนฟังก์ชัน ชื่ออะไร `def function_name()`: (ขาดไม่ได้)\n",
        "2. กำหนดตัวแปรที่จะเป็น Input *Input* (ขาดได้)\n",
        "3. ส่วนประมวลผล do sonething with *input* to get *output* (ขาดไม่ได้)\n",
        "4. ส่วน output return *output* (ขาดได้)"
      ],
      "metadata": {
        "id": "BEyO2pBdHZgC"
      }
    },
    {
      "cell_type": "markdown",
      "source": [
        "## ตัวอย่าง Function ที่มีส่วนประกอบครบ"
      ],
      "metadata": {
        "id": "HeTUqOhQIRXi"
      }
    },
    {
      "cell_type": "code",
      "source": [
        "def function_f1(x):\n",
        "  a = x**2\n",
        "  y = a + 75\n",
        "  return y"
      ],
      "metadata": {
        "id": "PIRQGhAUIXtX"
      },
      "execution_count": null,
      "outputs": []
    },
    {
      "cell_type": "markdown",
      "source": [
        "## ตัวอย่าง Function ที่ไม่มี input"
      ],
      "metadata": {
        "id": "aLDHaxXHIYd6"
      }
    },
    {
      "cell_type": "code",
      "source": [
        "def pi_v():\n",
        "  y = 3.14159265359\n",
        "  return y"
      ],
      "metadata": {
        "id": "c6zD7fKRIp_v"
      },
      "execution_count": null,
      "outputs": []
    },
    {
      "cell_type": "code",
      "source": [
        "piv = pi_v()\n",
        "circle_area_r2 = piv*(2**2)\n",
        "print(circle_area_r2)"
      ],
      "metadata": {
        "colab": {
          "base_uri": "https://localhost:8080/"
        },
        "id": "hlamAcV3Iw5A",
        "outputId": "a0310a20-edb1-4d5f-ac36-9df5f176fb01"
      },
      "execution_count": null,
      "outputs": [
        {
          "output_type": "stream",
          "name": "stdout",
          "text": [
            "12.56637061436\n"
          ]
        }
      ]
    },
    {
      "cell_type": "markdown",
      "source": [
        "## Function ไม่มี process ไม่ได้"
      ],
      "metadata": {
        "id": "0JTJoRjgJXex"
      }
    },
    {
      "cell_type": "code",
      "source": [
        "#ERROR CODE EXAMPLE\n",
        "#def function_a():"
      ],
      "metadata": {
        "id": "i8XD66UcJcIE"
      },
      "execution_count": null,
      "outputs": []
    },
    {
      "cell_type": "markdown",
      "source": [
        "## ตัวอย่าง Function ที่ไม่มี output"
      ],
      "metadata": {
        "id": "wBGqTT82Jjxi"
      }
    },
    {
      "cell_type": "code",
      "source": [
        "def print_name_id(name,id):\n",
        "  print(f'ชื่อ {name} รหัสประจำตัว {id}')"
      ],
      "metadata": {
        "id": "C4U5wlFUJuop"
      },
      "execution_count": null,
      "outputs": []
    },
    {
      "cell_type": "code",
      "source": [
        "print_name_id('สิทธัตกะ จรัสแสง','623020541-2')"
      ],
      "metadata": {
        "colab": {
          "base_uri": "https://localhost:8080/"
        },
        "id": "pcYcLBkpKHAD",
        "outputId": "d6e4a685-c34b-430f-f2e8-5b63fdf97c97"
      },
      "execution_count": null,
      "outputs": [
        {
          "output_type": "stream",
          "name": "stdout",
          "text": [
            "ชื่อ สิทธัตกะ จรัสแสง รหัสประจำตัว 623020541-2\n"
          ]
        }
      ]
    },
    {
      "cell_type": "code",
      "source": [
        "a = print_name_id('สิทธัตกะ จรัสแสง','623020541-2')"
      ],
      "metadata": {
        "colab": {
          "base_uri": "https://localhost:8080/"
        },
        "id": "xhb6wsUSKfM9",
        "outputId": "2860c6ec-3109-460b-bf4c-f4659fc706b1"
      },
      "execution_count": null,
      "outputs": [
        {
          "output_type": "stream",
          "name": "stdout",
          "text": [
            "ชื่อ สิทธัตกะ จรัสแสง รหัสประจำตัว 623020541-2\n"
          ]
        }
      ]
    },
    {
      "cell_type": "markdown",
      "source": [
        "## ตัวอย่าง Function print : ไปหาเอา"
      ],
      "metadata": {
        "id": "caSXIUa3O7Ll"
      }
    },
    {
      "cell_type": "code",
      "source": [
        "print('สิทธัตกะ จรัสแสง')\n",
        "print('623020541-2')"
      ],
      "metadata": {
        "colab": {
          "base_uri": "https://localhost:8080/"
        },
        "id": "ZaeKc_pxPBON",
        "outputId": "13c2d816-6fed-4c04-ed99-fd7553ed3163"
      },
      "execution_count": null,
      "outputs": [
        {
          "output_type": "stream",
          "name": "stdout",
          "text": [
            "สิทธัตกะ จรัสแสง\n",
            "623020541-2\n"
          ]
        }
      ]
    },
    {
      "cell_type": "code",
      "source": [
        "print('สิทธัตกะ จรัสแสง',end='->')\n",
        "print('623020541-2')"
      ],
      "metadata": {
        "colab": {
          "base_uri": "https://localhost:8080/"
        },
        "id": "RhLMB0GMPUIj",
        "outputId": "36b37214-70b2-4400-bc21-aecf5b071a50"
      },
      "execution_count": null,
      "outputs": [
        {
          "output_type": "stream",
          "name": "stdout",
          "text": [
            "สิทธัตกะ จรัสแสง->623020541-2\n"
          ]
        }
      ]
    },
    {
      "cell_type": "code",
      "source": [
        "print('สิทธัตกะ จรัสแสง','623020541-2',sep=' & ')"
      ],
      "metadata": {
        "colab": {
          "base_uri": "https://localhost:8080/"
        },
        "id": "Btcwpi4jPhy7",
        "outputId": "88d584b6-45ab-4ab9-95c6-707233f83770"
      },
      "execution_count": null,
      "outputs": [
        {
          "output_type": "stream",
          "name": "stdout",
          "text": [
            "สิทธัตกะ จรัสแสง & 623020541-2\n"
          ]
        }
      ]
    },
    {
      "cell_type": "markdown",
      "source": [
        "## Input ของ Function แบ่งเป็น 2 ชนิด \n",
        "\n",
        "- จำเป็นต้องใส่\n",
        "- ไม่จำเป็นต้นใส่"
      ],
      "metadata": {
        "id": "9SY30EZzQGw4"
      }
    },
    {
      "cell_type": "markdown",
      "source": [
        "ตัวอย่าง function `print_grade()` มี input 3 ตัวจำเป็นต้องใส่ 2 ตัวคือ name กับ id และไม่จำเป็นต้องใส่ 1 ตัวคือเกรด ซึ่งมีค่า default เป็น F"
      ],
      "metadata": {
        "id": "xojxKwM2RHQM"
      }
    },
    {
      "cell_type": "code",
      "source": [
        "def print_grade(name,id,grade = 'F' ):\n",
        "  print(f'รหัสประจำตัว {id } ชื่อ {name}')\n",
        "  print(f'ได้เกรด {grade}')"
      ],
      "metadata": {
        "id": "986mXytrQYQS"
      },
      "execution_count": null,
      "outputs": []
    },
    {
      "cell_type": "code",
      "source": [
        "print_grade('สิทธัตกะ จรัสแสง','623020541-2')"
      ],
      "metadata": {
        "colab": {
          "base_uri": "https://localhost:8080/"
        },
        "id": "UMPP1ohpRtWw",
        "outputId": "114139e0-ec68-487d-d3fe-9cba9311ee0f"
      },
      "execution_count": null,
      "outputs": [
        {
          "output_type": "stream",
          "name": "stdout",
          "text": [
            "รหัสประจำตัว 623020541-2 ชื่อ สิทธัตกะ จรัสแสง\n",
            "ได้เกรด F\n"
          ]
        }
      ]
    },
    {
      "cell_type": "code",
      "source": [
        "print_grade('สิทธัตกะ จรัสแสง','623020541-2','A')"
      ],
      "metadata": {
        "colab": {
          "base_uri": "https://localhost:8080/"
        },
        "id": "C4aqKgwTR102",
        "outputId": "6287bec2-d4cf-4949-e401-66a5079dfadf"
      },
      "execution_count": null,
      "outputs": [
        {
          "output_type": "stream",
          "name": "stdout",
          "text": [
            "รหัสประจำตัว 623020541-2 ชื่อ สิทธัตกะ จรัสแสง\n",
            "ได้เกรด A\n"
          ]
        }
      ]
    },
    {
      "cell_type": "code",
      "source": [
        "print_grade(id = '623020541-2' , name = 'สิทธัตกะ จรัสแสง' , grade = 'B+')"
      ],
      "metadata": {
        "colab": {
          "base_uri": "https://localhost:8080/"
        },
        "id": "GplkODgcR-CL",
        "outputId": "d1115abb-ed5c-45e3-be98-8ea6cc627b89"
      },
      "execution_count": null,
      "outputs": [
        {
          "output_type": "stream",
          "name": "stdout",
          "text": [
            "รหัสประจำตัว 623020541-2 ชื่อ สิทธัตกะ จรัสแสง\n",
            "ได้เกรด B+\n"
          ]
        }
      ]
    },
    {
      "cell_type": "markdown",
      "source": [
        "# Looping (for)"
      ],
      "metadata": {
        "id": "5cOOOb10DqcH"
      }
    },
    {
      "cell_type": "markdown",
      "source": [
        "```python\n",
        "for member in listEX:\n",
        "  do_something()\n",
        "```"
      ],
      "metadata": {
        "id": "B9tLYranUGp1"
      }
    },
    {
      "cell_type": "code",
      "source": [
        "for member in [1,2,3,4,5,6]:\n",
        "  print(member)"
      ],
      "metadata": {
        "id": "qqk0PsnDDw3r",
        "colab": {
          "base_uri": "https://localhost:8080/"
        },
        "outputId": "6c6e269a-64ff-4f2f-bc1f-6bd66d1645b9"
      },
      "execution_count": null,
      "outputs": [
        {
          "output_type": "stream",
          "name": "stdout",
          "text": [
            "1\n",
            "2\n",
            "3\n",
            "4\n",
            "5\n",
            "6\n"
          ]
        }
      ]
    },
    {
      "cell_type": "code",
      "source": [
        "def print_name(name):\n",
        "    print(f'ฉันชื่อ {name}')"
      ],
      "metadata": {
        "id": "6G0NtLRvU-vD"
      },
      "execution_count": null,
      "outputs": []
    },
    {
      "cell_type": "code",
      "source": [
        "for name in ['สิทธัตกะ','ชนะชัย','วนิศรา']:\n",
        "  N = name\n",
        "  print_name(N)"
      ],
      "metadata": {
        "colab": {
          "base_uri": "https://localhost:8080/"
        },
        "id": "jsqCwhVqVJVd",
        "outputId": "0b9960a6-136c-4dc1-f154-7d4c9e93b07b"
      },
      "execution_count": null,
      "outputs": [
        {
          "output_type": "stream",
          "name": "stdout",
          "text": [
            "ฉันชื่อ สิทธัตกะ\n",
            "ฉันชื่อ ชนะชัย\n",
            "ฉันชื่อ วนิศรา\n"
          ]
        }
      ]
    },
    {
      "cell_type": "code",
      "source": [
        "list_name_id_grade = [['สิทธัตกะ จรัสแสง','623020541-2','A'],['ชนะชัย อิสระกูล','623021045-9','A'],['วนิศรา จงใจ','623021054-8','A']]"
      ],
      "metadata": {
        "id": "7in9Oi24WXK-"
      },
      "execution_count": null,
      "outputs": []
    },
    {
      "cell_type": "code",
      "source": [
        "for each in list_name_id_grade:\n",
        "  name = each[0]\n",
        "  id = each[1]\n",
        "  grade = each [2]\n",
        "  print_grade(name,id,grade)\n",
        "  print('-------------------------------')"
      ],
      "metadata": {
        "colab": {
          "base_uri": "https://localhost:8080/"
        },
        "id": "lxFUVvpiXUe2",
        "outputId": "15050c7f-7706-4e07-9e6f-8d09ceb5585a"
      },
      "execution_count": null,
      "outputs": [
        {
          "output_type": "stream",
          "name": "stdout",
          "text": [
            "รหัสประจำตัว 623020541-2 ชื่อ สิทธัตกะ จรัสแสง\n",
            "ได้เกรด A\n",
            "-------------------------------\n",
            "รหัสประจำตัว 623021045-9 ชื่อ ชนะชัย อิสระกูล\n",
            "ได้เกรด A\n",
            "-------------------------------\n",
            "รหัสประจำตัว 623021054-8 ชื่อ วนิศรา จงใจ\n",
            "ได้เกรด A\n",
            "-------------------------------\n"
          ]
        }
      ]
    },
    {
      "cell_type": "markdown",
      "source": [
        "## ใช้ for loop เพิ่มสมาชิกใน list"
      ],
      "metadata": {
        "id": "TiE2X9IhYdg5"
      }
    },
    {
      "cell_type": "code",
      "source": [
        "list_name = []\n",
        "list_id = []\n",
        "list_grade = []\n",
        "for each in list_name_id_grade:\n",
        "  list_name.append(each[0])\n",
        "  list_id.append(each[1])\n",
        "  list_grade.append(each[2])"
      ],
      "metadata": {
        "id": "dwvoGWkeYjgY"
      },
      "execution_count": null,
      "outputs": []
    },
    {
      "cell_type": "code",
      "source": [
        "list_name"
      ],
      "metadata": {
        "colab": {
          "base_uri": "https://localhost:8080/"
        },
        "id": "rT-At2APY-h_",
        "outputId": "e123e1b4-1625-41c3-b8f2-c32ace65f648"
      },
      "execution_count": null,
      "outputs": [
        {
          "output_type": "execute_result",
          "data": {
            "text/plain": [
              "['สิทธัตกะ จรัสแสง', 'ชนะชัย อิสระกูล', 'วนิศรา จงใจ']"
            ]
          },
          "metadata": {},
          "execution_count": 23
        }
      ]
    },
    {
      "cell_type": "markdown",
      "source": [
        "## การวนลูปด้วย range()"
      ],
      "metadata": {
        "id": "ITpKxCvVbea0"
      }
    },
    {
      "cell_type": "code",
      "source": [
        "for i in range(100):\n",
        "  print('งง',end =' ')"
      ],
      "metadata": {
        "colab": {
          "base_uri": "https://localhost:8080/"
        },
        "id": "UnbrjcXHbiF7",
        "outputId": "b6ef2c77-06f5-4eee-9881-43b4d1a16a45"
      },
      "execution_count": null,
      "outputs": [
        {
          "output_type": "stream",
          "name": "stdout",
          "text": [
            "งง งง งง งง งง งง งง งง งง งง งง งง งง งง งง งง งง งง งง งง งง งง งง งง งง งง งง งง งง งง งง งง งง งง งง งง งง งง งง งง งง งง งง งง งง งง งง งง งง งง งง งง งง งง งง งง งง งง งง งง งง งง งง งง งง งง งง งง งง งง งง งง งง งง งง งง งง งง งง งง งง งง งง งง งง งง งง งง งง งง งง งง งง งง งง งง งง งง งง งง "
          ]
        }
      ]
    },
    {
      "cell_type": "markdown",
      "source": [
        "## Loop ซ้อน Loop"
      ],
      "metadata": {
        "id": "6CkVNQQacmaa"
      }
    },
    {
      "cell_type": "code",
      "source": [
        "for mem1 in range(2,5): #[2,3,4]\n",
        "  print(f'now mem1 = {mem1}')\n",
        "  for mem2 in range(1,13): #[1,2,3,4,5,6,7,8,9,10,11,12]\n",
        "    print(f'{mem1} x {mem2} = {mem1*mem2}')\n",
        "  print(f'end inner for mem 1 = {mem1}')"
      ],
      "metadata": {
        "colab": {
          "base_uri": "https://localhost:8080/"
        },
        "id": "Vue99DXxdBet",
        "outputId": "54c3c020-03b7-4a64-d8e5-f395a4127ccf"
      },
      "execution_count": null,
      "outputs": [
        {
          "output_type": "stream",
          "name": "stdout",
          "text": [
            "now mem1 = 2\n",
            "2 x 1 = 2\n",
            "2 x 2 = 4\n",
            "2 x 3 = 6\n",
            "2 x 4 = 8\n",
            "2 x 5 = 10\n",
            "2 x 6 = 12\n",
            "2 x 7 = 14\n",
            "2 x 8 = 16\n",
            "2 x 9 = 18\n",
            "2 x 10 = 20\n",
            "2 x 11 = 22\n",
            "2 x 12 = 24\n",
            "end inner for mem 1 = 2\n",
            "now mem1 = 3\n",
            "3 x 1 = 3\n",
            "3 x 2 = 6\n",
            "3 x 3 = 9\n",
            "3 x 4 = 12\n",
            "3 x 5 = 15\n",
            "3 x 6 = 18\n",
            "3 x 7 = 21\n",
            "3 x 8 = 24\n",
            "3 x 9 = 27\n",
            "3 x 10 = 30\n",
            "3 x 11 = 33\n",
            "3 x 12 = 36\n",
            "end inner for mem 1 = 3\n",
            "now mem1 = 4\n",
            "4 x 1 = 4\n",
            "4 x 2 = 8\n",
            "4 x 3 = 12\n",
            "4 x 4 = 16\n",
            "4 x 5 = 20\n",
            "4 x 6 = 24\n",
            "4 x 7 = 28\n",
            "4 x 8 = 32\n",
            "4 x 9 = 36\n",
            "4 x 10 = 40\n",
            "4 x 11 = 44\n",
            "4 x 12 = 48\n",
            "end inner for mem 1 = 4\n"
          ]
        }
      ]
    },
    {
      "cell_type": "markdown",
      "source": [
        "## Loop in Function"
      ],
      "metadata": {
        "id": "xXmx7sbCgSck"
      }
    },
    {
      "cell_type": "code",
      "source": [
        "def print_grade_loop(names,grades):\n",
        "  for n,g in zip(names,grades):\n",
        "    print(f'{n} ได้เกรด {g}')"
      ],
      "metadata": {
        "id": "7spFXYNGgaN7"
      },
      "execution_count": null,
      "outputs": []
    },
    {
      "cell_type": "code",
      "source": [
        "print_grade_loop(list_name,list_grade)"
      ],
      "metadata": {
        "colab": {
          "base_uri": "https://localhost:8080/"
        },
        "id": "UDc5PVt_g7Ur",
        "outputId": "df460123-aba9-4634-a8fc-87aea6d0687b"
      },
      "execution_count": null,
      "outputs": [
        {
          "output_type": "stream",
          "name": "stdout",
          "text": [
            "สิทธัตกะ จรัสแสง ได้เกรด A\n",
            "ชนะชัย อิสระกูล ได้เกรด A\n",
            "วนิศรา จงใจ ได้เกรด A\n"
          ]
        }
      ]
    },
    {
      "cell_type": "markdown",
      "source": [
        "#Conditional Statement(if)"
      ],
      "metadata": {
        "id": "riMEyt3PDxSc"
      }
    },
    {
      "cell_type": "markdown",
      "source": [
        "``` python\n",
        "if condition1:\n",
        "  do someting() ##ถ้า condition1 เป็นจริง ทำ do_sonething()\n",
        "elif condition2:\n",
        "  do_another_thing() ##ถ้า condition1 ไม่เป็นจริง แต่ condition2 เป็นจริง ทำ do_another thing()\n",
        "else:\n",
        "  do_the_last_thing() ## ถ้าไม่มี condition ไหนเป็นจริงเลย ทำ do_the_last_thing()\n",
        "```\n",
        "\n"
      ],
      "metadata": {
        "id": "O6rwXkRiiIPu"
      }
    },
    {
      "cell_type": "code",
      "execution_count": null,
      "metadata": {
        "id": "083OBVAyDYeN",
        "colab": {
          "base_uri": "https://localhost:8080/"
        },
        "outputId": "bc6c9fd5-d017-404e-f9b8-73c903366c1f"
      },
      "outputs": [
        {
          "output_type": "stream",
          "name": "stdout",
          "text": [
            "สิทธัตกะ จรัสแสง ได้เกรด A\n",
            "ชนะชัย อิสระกูล ได้เกรด F\n",
            "วนิศรา จงใจ ได้เกรด F\n"
          ]
        }
      ],
      "source": [
        "for n in list_name:\n",
        "  if len(n)>15:\n",
        "      print(f'{n} ได้เกรด A')\n",
        "  else:\n",
        "      print(f'{n} ได้เกรด F')"
      ]
    },
    {
      "cell_type": "markdown",
      "source": [
        "## operator ที่ใช้ตรวจสอบ condition\n",
        "\n",
        "==,!=,>=,<=,<,>,and,or"
      ],
      "metadata": {
        "id": "UaSUsQd6kT3M"
      }
    },
    {
      "cell_type": "code",
      "source": [
        "a = 10 == 20\n",
        "print(a)"
      ],
      "metadata": {
        "colab": {
          "base_uri": "https://localhost:8080/"
        },
        "id": "IawCiJkxkie6",
        "outputId": "c72b2909-9dab-4daa-adeb-16e54296767f"
      },
      "execution_count": null,
      "outputs": [
        {
          "output_type": "stream",
          "name": "stdout",
          "text": [
            "False\n"
          ]
        }
      ]
    },
    {
      "cell_type": "code",
      "source": [
        "b = 15 <= 20\n",
        "print(b)"
      ],
      "metadata": {
        "colab": {
          "base_uri": "https://localhost:8080/"
        },
        "id": "SFosQk0fk4f0",
        "outputId": "ffad9f37-5641-4500-e032-c7ef361f48d4"
      },
      "execution_count": null,
      "outputs": [
        {
          "output_type": "stream",
          "name": "stdout",
          "text": [
            "True\n"
          ]
        }
      ]
    },
    {
      "cell_type": "code",
      "source": [
        "if a:\n",
        "  print('x')"
      ],
      "metadata": {
        "id": "OEnJTVYllEp4"
      },
      "execution_count": null,
      "outputs": []
    },
    {
      "cell_type": "code",
      "source": [
        "if True:\n",
        "  print('x')"
      ],
      "metadata": {
        "colab": {
          "base_uri": "https://localhost:8080/"
        },
        "id": "dzwpxVFElJL3",
        "outputId": "e28007c5-da04-4188-8289-34ad0fd74f9d"
      },
      "execution_count": null,
      "outputs": [
        {
          "output_type": "stream",
          "name": "stdout",
          "text": [
            "x\n"
          ]
        }
      ]
    },
    {
      "cell_type": "code",
      "source": [
        "if a and b:\n",
        "  print('x')"
      ],
      "metadata": {
        "id": "Ve-yi2C9lVG7"
      },
      "execution_count": null,
      "outputs": []
    },
    {
      "cell_type": "code",
      "source": [
        "if a or b:\n",
        "  print('x')"
      ],
      "metadata": {
        "colab": {
          "base_uri": "https://localhost:8080/"
        },
        "id": "zZeqh7K0lcS5",
        "outputId": "182ea7bb-a45f-47d2-b29b-5ba621f3a4f2"
      },
      "execution_count": null,
      "outputs": [
        {
          "output_type": "stream",
          "name": "stdout",
          "text": [
            "x\n"
          ]
        }
      ]
    },
    {
      "cell_type": "markdown",
      "source": [
        "#HW\n",
        "เขียน Function ตัดเกรด โดยที่ input เป็นคะแนน (0-100) , output เป็น (F-A)\n",
        "หรือ 'ไม่สามารถตัดเกรดได้'\n",
        "\n",
        "วนลูปตัดเกรด input = [1,50,65,90,101,-5,49,'ก',80]\n",
        "\n",
        "กำหนด\n",
        "\n",
        "* ถ้าคะแนนอยู่ระหว่างมากกว่าหรือเท่ากับ 0 แต่น้อยกว่า 50 จะได้เกรด F\n",
        "* ถ้าคะแนนอยู่ระหว่างมากกว่าหรือเท่ากับ 50 แต่น้อยกว่า 55 จะได้เกรด D\n",
        "* ถ้าคะแนนอยู่ระหว่างมากกว่าหรือเท่ากับ 55 แต่น้อยกว่า 60 จะได้เกรด D+\n",
        "* ถ้าคะแนนอยู่ระหว่างมากกว่าหรือเท่ากับ 60 แต่น้อยกว่า 65 จะได้เกรด C\n",
        "* ถ้าคะแนนอยู่ระหว่างมากกว่าหรือเท่ากับ 65 แต่น้อยกว่า 70 จะได้เกรด C+\n",
        "* ถ้าคะแนนอยู่ระหว่างมากกว่าหรือเท่ากับ 70 แต่น้อยกว่า 75 จะได้เกรด B\n",
        "* ถ้าคะแนนอยู่ระหว่างมากกว่าหรือเท่ากับ 75 แต่น้อยกว่า 80 จะได้เกรด B+\n",
        "* ถ้าคะแนนอยู่ระหว่างมากกว่าหรือเท่ากับ 80 จะได้เกรด A\n",
        "* ถ้าคะแนนไม่อยู่ในช่วง 0-100 ให้ return 'ไม่สามารถตัดเกรดได้'"
      ],
      "metadata": {
        "id": "MOJvtYR5lyBW"
      }
    },
    {
      "cell_type": "code",
      "source": [
        "score = [1,50,65,90,101,-5,49,'ก',80]"
      ],
      "metadata": {
        "id": "dlkIUHSjpjYV"
      },
      "execution_count": null,
      "outputs": []
    },
    {
      "cell_type": "code",
      "source": [
        "print(score)\n",
        "for i in score:\n",
        "    if type(i) == type(\"\"):\n",
        "        print (f'{i} ไม่สามารถตัดเกรดได้')\n",
        "    else:\n",
        "        if i >= 101:\n",
        "            print (f'คะแนน {i} ไม่สามารถตัดเกรดได้')\n",
        "        elif i >= 80:\n",
        "            print (f'คะแนนของคุณคือ {i} ได้เกรด  A')\n",
        "        elif i >= 75:\n",
        "            print (f'คะแนนของคุณคือ {i} ได้เกรด  B+')\n",
        "        elif i >= 70:\n",
        "            print (f'คะแนนของคุณคือ {i} ได้เกรด  B')\n",
        "        elif i >= 65:\n",
        "            print (f'คะแนนของคุณคือ {i} ได้เกรด  C+')\n",
        "        elif  i >= 60:\n",
        "            print (f'คะแนนของคุณคือ {i} ได้เกรด  C')\n",
        "        elif  i >= 55:\n",
        "            print (f'คะแนนของคุณคือ {i} ได้เกรด  D+')\n",
        "        elif  i >= 50:\n",
        "            print (f'คะแนนของคุณคือ {i} ได้เกรด  D')\n",
        "        elif  i >= 0:\n",
        "            print (f'คะแนนของคุณคือ {i} ได้เกรด  F')\n",
        "        else:\n",
        "            print (f'คะแนน {i} ไม่สามารถตัดเกรดได้')"
      ],
      "metadata": {
        "id": "EIfZaT7g9UIe",
        "outputId": "e092b1d5-d2a0-4d7e-e3f8-bcb441b2739a",
        "colab": {
          "base_uri": "https://localhost:8080/"
        }
      },
      "execution_count": null,
      "outputs": [
        {
          "output_type": "stream",
          "name": "stdout",
          "text": [
            "[1, 50, 65, 90, 101, -5, 49, 'ก', 80]\n",
            "คะแนนของคุณคือ 1 ได้เกรด  F\n",
            "คะแนนของคุณคือ 50 ได้เกรด  D\n",
            "คะแนนของคุณคือ 65 ได้เกรด  C+\n",
            "คะแนนของคุณคือ 90 ได้เกรด  A\n",
            "คะแนน 101 ไม่สามารถตัดเกรดได้\n",
            "คะแนน -5 ไม่สามารถตัดเกรดได้\n",
            "คะแนนของคุณคือ 49 ได้เกรด  F\n",
            "ก ไม่สามารถตัดเกรดได้\n",
            "คะแนนของคุณคือ 80 ได้เกรด  A\n"
          ]
        }
      ]
    }
  ]
}