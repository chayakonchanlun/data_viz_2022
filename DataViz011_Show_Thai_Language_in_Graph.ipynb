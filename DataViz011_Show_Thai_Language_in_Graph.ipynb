{
  "nbformat": 4,
  "nbformat_minor": 0,
  "metadata": {
    "colab": {
      "name": "DataViz011 Show Thai Language in Graph.ipynb",
      "provenance": [],
      "authorship_tag": "ABX9TyNdmkMF/b0LD9+CJfB6WgUa",
      "include_colab_link": true
    },
    "kernelspec": {
      "name": "python3",
      "display_name": "Python 3"
    },
    "language_info": {
      "name": "python"
    }
  },
  "cells": [
    {
      "cell_type": "markdown",
      "metadata": {
        "id": "view-in-github",
        "colab_type": "text"
      },
      "source": [
        "<a href=\"https://colab.research.google.com/github/chayakonchanlun/data_viz_2022/blob/main/DataViz011_Show_Thai_Language_in_Graph.ipynb\" target=\"_parent\"><img src=\"https://colab.research.google.com/assets/colab-badge.svg\" alt=\"Open In Colab\"/></a>"
      ]
    },
    {
      "cell_type": "markdown",
      "source": [
        "https://colab.research.google.com/drive/1sTdTZx_Cm51mc8OL_QHtehWyO4725sGl"
      ],
      "metadata": {
        "id": "hjcEPKK9reWD"
      }
    },
    {
      "cell_type": "code",
      "execution_count": 1,
      "metadata": {
        "id": "DCEwvSYarI6L"
      },
      "outputs": [],
      "source": [
        "!wget -q !wget -q https://github.com/Phonbopit/sarabun-webfont/raw/master/fonts/thsarabunnew-webfont.ttf #ใช้รีนุกต้องใช้เครื่องหมาย!ไว้ข้างหน้ามันไม่ใช้ python"
      ]
    },
    {
      "cell_type": "code",
      "source": [
        "!ls"
      ],
      "metadata": {
        "colab": {
          "base_uri": "https://localhost:8080/"
        },
        "id": "UAYyRDuUr4WS",
        "outputId": "d23ed0cd-2f93-4eba-f296-cbf0a368f02f"
      },
      "execution_count": 2,
      "outputs": [
        {
          "output_type": "stream",
          "name": "stdout",
          "text": [
            "sample_data  thsarabunnew-webfont.ttf\n"
          ]
        }
      ]
    },
    {
      "cell_type": "code",
      "source": [
        "import matplotlib.pyplot as mpl\n",
        "mpl.font_manager.fontManger.addfont('thsarabunnew')"
      ],
      "metadata": {
        "id": "FzgC8efOsJ5y"
      },
      "execution_count": null,
      "outputs": []
    }
  ]
}