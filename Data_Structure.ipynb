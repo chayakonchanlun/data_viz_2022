{
  "nbformat": 4,
  "nbformat_minor": 0,
  "metadata": {
    "colab": {
      "name": "Data Structure.ipynb",
      "provenance": [],
      "authorship_tag": "ABX9TyPoXmZnHggXXeQySksPP4y1",
      "include_colab_link": true
    },
    "kernelspec": {
      "name": "python3",
      "display_name": "Python 3"
    },
    "language_info": {
      "name": "python"
    }
  },
  "cells": [
    {
      "cell_type": "markdown",
      "metadata": {
        "id": "view-in-github",
        "colab_type": "text"
      },
      "source": [
        "<a href=\"https://colab.research.google.com/github/chayakonchanlun/data_viz_2022/blob/main/Data_Structure.ipynb\" target=\"_parent\"><img src=\"https://colab.research.google.com/assets/colab-badge.svg\" alt=\"Open In Colab\"/></a>"
      ]
    },
    {
      "cell_type": "markdown",
      "source": [
        "# Data Structure (โครงสร้างข้อมูล)\n",
        "\n",
        "การเก็บข้อมูลหลายๆตัวไว้ด้วยกันอย่างเป็นระเบียบ\n",
        "\n",
        "เก็บอะไรก็ได้\n",
        "\n",
        "ลำดับในการเก็บ มีความสำคัญ"
      ],
      "metadata": {
        "id": "HIQDxQl4j-Rl"
      }
    },
    {
      "cell_type": "code",
      "source": [
        "list_a = [1,2,3,4,5,6] #[ ] square brackets"
      ],
      "metadata": {
        "id": "ttOk55gVkffb"
      },
      "execution_count": 3,
      "outputs": []
    },
    {
      "cell_type": "code",
      "source": [
        "list_a"
      ],
      "metadata": {
        "id": "qatguenzkogH",
        "outputId": "9cd99852-d45e-417d-df49-e68e2d7dd34b",
        "colab": {
          "base_uri": "https://localhost:8080/"
        }
      },
      "execution_count": 4,
      "outputs": [
        {
          "output_type": "execute_result",
          "data": {
            "text/plain": [
              "[1, 2, 3, 4, 5, 6]"
            ]
          },
          "metadata": {},
          "execution_count": 4
        }
      ]
    },
    {
      "cell_type": "code",
      "source": [
        "list_b = ['ab',2,3.14, list_a]"
      ],
      "metadata": {
        "id": "l5UV8uFikpzE"
      },
      "execution_count": 5,
      "outputs": []
    },
    {
      "cell_type": "code",
      "source": [
        "list_b"
      ],
      "metadata": {
        "id": "hBtEJRdmkrvD",
        "outputId": "da3fa953-f0f1-4737-9604-2a86775ad44d",
        "colab": {
          "base_uri": "https://localhost:8080/"
        }
      },
      "execution_count": 6,
      "outputs": [
        {
          "output_type": "execute_result",
          "data": {
            "text/plain": [
              "['ab', 2, 3.14, [1, 2, 3, 4, 5, 6]]"
            ]
          },
          "metadata": {},
          "execution_count": 6
        }
      ]
    },
    {
      "cell_type": "markdown",
      "source": [
        "## indexing การชี้สมาชิกใน list ด้วย เลขลำดับของ **list**"
      ],
      "metadata": {
        "id": "tYWgF2iykvC7"
      }
    },
    {
      "cell_type": "code",
      "source": [
        "list_a[3]"
      ],
      "metadata": {
        "id": "Q1qGQyfuktQk",
        "outputId": "166b9248-5054-43a4-db78-a143580a6d0e",
        "colab": {
          "base_uri": "https://localhost:8080/"
        }
      },
      "execution_count": 7,
      "outputs": [
        {
          "output_type": "execute_result",
          "data": {
            "text/plain": [
              "4"
            ]
          },
          "metadata": {},
          "execution_count": 7
        }
      ]
    },
    {
      "cell_type": "code",
      "source": [
        "list_b[3]"
      ],
      "metadata": {
        "id": "LlsHMTojkxBT",
        "outputId": "cdce2315-4f13-4a1d-c852-e4b7c43718ac",
        "colab": {
          "base_uri": "https://localhost:8080/"
        }
      },
      "execution_count": 8,
      "outputs": [
        {
          "output_type": "execute_result",
          "data": {
            "text/plain": [
              "[1, 2, 3, 4, 5, 6]"
            ]
          },
          "metadata": {},
          "execution_count": 8
        }
      ]
    },
    {
      "cell_type": "code",
      "source": [
        "list_b[3][4]"
      ],
      "metadata": {
        "id": "F2U7tldXkybH",
        "outputId": "8608e1ec-ed0a-4393-8deb-60f8d16f1963",
        "colab": {
          "base_uri": "https://localhost:8080/"
        }
      },
      "execution_count": 9,
      "outputs": [
        {
          "output_type": "execute_result",
          "data": {
            "text/plain": [
              "5"
            ]
          },
          "metadata": {},
          "execution_count": 9
        }
      ]
    },
    {
      "cell_type": "code",
      "source": [
        "list_a [-1] #index -1 คือตัวสุดของ list"
      ],
      "metadata": {
        "id": "XcdHE9NLk2xm",
        "outputId": "3c3222a8-25bf-4612-f5a9-b17380bdbfbc",
        "colab": {
          "base_uri": "https://localhost:8080/"
        }
      },
      "execution_count": 12,
      "outputs": [
        {
          "output_type": "execute_result",
          "data": {
            "text/plain": [
              "6"
            ]
          },
          "metadata": {},
          "execution_count": 12
        }
      ]
    },
    {
      "cell_type": "code",
      "source": [
        "list_a[-4]"
      ],
      "metadata": {
        "id": "1E6Nyh1klGJj",
        "outputId": "55611008-1d3f-43e2-f9d4-5b7636b01e19",
        "colab": {
          "base_uri": "https://localhost:8080/"
        }
      },
      "execution_count": 13,
      "outputs": [
        {
          "output_type": "execute_result",
          "data": {
            "text/plain": [
              "3"
            ]
          },
          "metadata": {},
          "execution_count": 13
        }
      ]
    },
    {
      "cell_type": "markdown",
      "source": [
        "# การสร้าง `list()`"
      ],
      "metadata": {
        "id": "ze79NEoJlIga"
      }
    },
    {
      "cell_type": "code",
      "source": [
        "list_x1 = [] #แบบที่ 1\n",
        "list_x2 = list() #แบบที่ 2"
      ],
      "metadata": {
        "id": "H16GsOaRlGss"
      },
      "execution_count": 14,
      "outputs": []
    },
    {
      "cell_type": "code",
      "source": [
        "print(list_x1)\n",
        "print(list_x2)"
      ],
      "metadata": {
        "id": "GHiQUruilOZq",
        "outputId": "8e2dc5b9-4916-4483-e2ff-d15a2ace669f",
        "colab": {
          "base_uri": "https://localhost:8080/"
        }
      },
      "execution_count": 15,
      "outputs": [
        {
          "output_type": "stream",
          "name": "stdout",
          "text": [
            "[]\n",
            "[]\n"
          ]
        }
      ]
    },
    {
      "cell_type": "markdown",
      "source": [
        "# เพิ่มสมาชิกเข้าไปใน list ด้วย `append()`"
      ],
      "metadata": {
        "id": "us5oXP-olSCU"
      }
    },
    {
      "cell_type": "code",
      "source": [
        "list_x1.append(2)"
      ],
      "metadata": {
        "id": "7_TScbPMlP5e"
      },
      "execution_count": 16,
      "outputs": []
    },
    {
      "cell_type": "code",
      "source": [
        "list_x1"
      ],
      "metadata": {
        "id": "KD8wsPF0lVUY",
        "outputId": "6f20f71d-cbcf-4f48-8cc2-280dda32a8cc",
        "colab": {
          "base_uri": "https://localhost:8080/"
        }
      },
      "execution_count": 17,
      "outputs": [
        {
          "output_type": "execute_result",
          "data": {
            "text/plain": [
              "[2]"
            ]
          },
          "metadata": {},
          "execution_count": 17
        }
      ]
    },
    {
      "cell_type": "code",
      "source": [
        "list_x1.append(4)\n",
        "print(list_x1)"
      ],
      "metadata": {
        "id": "DEHPkd2-lXLJ",
        "outputId": "5b98c16f-05a5-488f-d391-f3bf524316ee",
        "colab": {
          "base_uri": "https://localhost:8080/"
        }
      },
      "execution_count": 18,
      "outputs": [
        {
          "output_type": "stream",
          "name": "stdout",
          "text": [
            "[2, 4]\n"
          ]
        }
      ]
    },
    {
      "cell_type": "code",
      "source": [
        "list_x1[0]"
      ],
      "metadata": {
        "id": "I86UFFNdlYsf",
        "outputId": "62d1c3f8-4236-4fb7-b6d7-545a173d4c6c",
        "colab": {
          "base_uri": "https://localhost:8080/"
        }
      },
      "execution_count": 19,
      "outputs": [
        {
          "output_type": "execute_result",
          "data": {
            "text/plain": [
              "2"
            ]
          },
          "metadata": {},
          "execution_count": 19
        }
      ]
    },
    {
      "cell_type": "code",
      "source": [
        "list_x1[-1]"
      ],
      "metadata": {
        "id": "_tMbljqylZ2r",
        "outputId": "74cf83bc-f483-411a-d519-a0e8243fe2c6",
        "colab": {
          "base_uri": "https://localhost:8080/"
        }
      },
      "execution_count": 20,
      "outputs": [
        {
          "output_type": "execute_result",
          "data": {
            "text/plain": [
              "4"
            ]
          },
          "metadata": {},
          "execution_count": 20
        }
      ]
    },
    {
      "cell_type": "code",
      "source": [
        "list_x2"
      ],
      "metadata": {
        "id": "pBVylU5-latU",
        "outputId": "f0618404-9886-43db-9572-17ab6496cae2",
        "colab": {
          "base_uri": "https://localhost:8080/"
        }
      },
      "execution_count": 21,
      "outputs": [
        {
          "output_type": "execute_result",
          "data": {
            "text/plain": [
              "[]"
            ]
          },
          "metadata": {},
          "execution_count": 21
        }
      ]
    },
    {
      "cell_type": "code",
      "source": [
        "list_x2.append('ha')"
      ],
      "metadata": {
        "id": "VdBdOiCIlbq_"
      },
      "execution_count": 22,
      "outputs": []
    },
    {
      "cell_type": "code",
      "source": [
        "list_x2"
      ],
      "metadata": {
        "id": "8wsnmufMlcjF",
        "outputId": "ca42c901-7838-4749-f538-d154fe40efea",
        "colab": {
          "base_uri": "https://localhost:8080/"
        }
      },
      "execution_count": 23,
      "outputs": [
        {
          "output_type": "execute_result",
          "data": {
            "text/plain": [
              "['ha']"
            ]
          },
          "metadata": {},
          "execution_count": 23
        }
      ]
    },
    {
      "cell_type": "markdown",
      "source": [
        "## ลบสมาชิกจาก list"
      ],
      "metadata": {
        "id": "yYulGhOqlfgT"
      }
    },
    {
      "cell_type": "code",
      "source": [
        "list_x1.append('ha')"
      ],
      "metadata": {
        "id": "g8pN9CD5ldu4"
      },
      "execution_count": 24,
      "outputs": []
    },
    {
      "cell_type": "code",
      "source": [
        "list_x1"
      ],
      "metadata": {
        "id": "l6QVAAlklhiF",
        "outputId": "05694c8f-a8b2-47f3-a32b-f3bf54cf938b",
        "colab": {
          "base_uri": "https://localhost:8080/"
        }
      },
      "execution_count": 25,
      "outputs": [
        {
          "output_type": "execute_result",
          "data": {
            "text/plain": [
              "[2, 4, 'ha']"
            ]
          },
          "metadata": {},
          "execution_count": 25
        }
      ]
    },
    {
      "cell_type": "code",
      "source": [
        "list_x1.pop()"
      ],
      "metadata": {
        "id": "NkdTzPk0lip8",
        "outputId": "fe6dd5d4-3bd2-46ec-8785-eb06eafbf5fe",
        "colab": {
          "base_uri": "https://localhost:8080/",
          "height": 35
        }
      },
      "execution_count": 26,
      "outputs": [
        {
          "output_type": "execute_result",
          "data": {
            "application/vnd.google.colaboratory.intrinsic+json": {
              "type": "string"
            },
            "text/plain": [
              "'ha'"
            ]
          },
          "metadata": {},
          "execution_count": 26
        }
      ]
    },
    {
      "cell_type": "code",
      "source": [
        "list_x1"
      ],
      "metadata": {
        "id": "dS7aBieglj3M",
        "outputId": "06fff161-3166-44b6-e864-8a7f7ac1424f",
        "colab": {
          "base_uri": "https://localhost:8080/"
        }
      },
      "execution_count": 27,
      "outputs": [
        {
          "output_type": "execute_result",
          "data": {
            "text/plain": [
              "[2, 4]"
            ]
          },
          "metadata": {},
          "execution_count": 27
        }
      ]
    },
    {
      "cell_type": "code",
      "source": [
        "list_x1.pop()\n",
        "print(list_x1)"
      ],
      "metadata": {
        "id": "AeSzrX9illAc",
        "outputId": "243f64fb-1ed4-490f-cda0-2d0bfbe0c332",
        "colab": {
          "base_uri": "https://localhost:8080/"
        }
      },
      "execution_count": 28,
      "outputs": [
        {
          "output_type": "stream",
          "name": "stdout",
          "text": [
            "[2]\n"
          ]
        }
      ]
    },
    {
      "cell_type": "markdown",
      "source": [
        "## `len()` ตรวจสอบจำนวนสมาชิกของ list"
      ],
      "metadata": {
        "id": "PQuibixclnpS"
      }
    },
    {
      "cell_type": "code",
      "source": [
        "print(list_b)\n",
        "print(len(list_b))"
      ],
      "metadata": {
        "id": "gpHbEGoVlmRN",
        "outputId": "7a4059f7-4f72-4c58-8fab-ba8e36802868",
        "colab": {
          "base_uri": "https://localhost:8080/"
        }
      },
      "execution_count": 29,
      "outputs": [
        {
          "output_type": "stream",
          "name": "stdout",
          "text": [
            "['ab', 2, 3.14, [1, 2, 3, 4, 5, 6]]\n",
            "4\n"
          ]
        }
      ]
    },
    {
      "cell_type": "code",
      "source": [
        "len(list_a)"
      ],
      "metadata": {
        "id": "sM3d9-Kulp60",
        "outputId": "68810665-832b-4eea-d501-81312d4229d8",
        "colab": {
          "base_uri": "https://localhost:8080/"
        }
      },
      "execution_count": 30,
      "outputs": [
        {
          "output_type": "execute_result",
          "data": {
            "text/plain": [
              "6"
            ]
          },
          "metadata": {},
          "execution_count": 30
        }
      ]
    },
    {
      "cell_type": "markdown",
      "source": [
        "# String is a list of characters"
      ],
      "metadata": {
        "id": "6VE8B_TBls5q"
      }
    },
    {
      "cell_type": "code",
      "source": [
        "st_stat = 'Department of Statistics, Faculty of science'"
      ],
      "metadata": {
        "id": "YXIFhywMlrh4"
      },
      "execution_count": 31,
      "outputs": []
    },
    {
      "cell_type": "code",
      "source": [
        "st_stat[10]"
      ],
      "metadata": {
        "id": "bXEDqvDulvzT",
        "outputId": "4901107f-1b38-4424-d5b6-62891b044e9c",
        "colab": {
          "base_uri": "https://localhost:8080/",
          "height": 35
        }
      },
      "execution_count": 32,
      "outputs": [
        {
          "output_type": "execute_result",
          "data": {
            "application/vnd.google.colaboratory.intrinsic+json": {
              "type": "string"
            },
            "text/plain": [
              "' '"
            ]
          },
          "metadata": {},
          "execution_count": 32
        }
      ]
    },
    {
      "cell_type": "code",
      "source": [
        "len(st_stst)"
      ],
      "metadata": {
        "id": "e_RFsMyYlxTL",
        "outputId": "107531bb-1c2d-42c8-abcf-dc6a7a037694",
        "colab": {
          "base_uri": "https://localhost:8080/",
          "height": 166
        }
      },
      "execution_count": 33,
      "outputs": [
        {
          "output_type": "error",
          "ename": "NameError",
          "evalue": "ignored",
          "traceback": [
            "\u001b[0;31m---------------------------------------------------------------------------\u001b[0m",
            "\u001b[0;31mNameError\u001b[0m                                 Traceback (most recent call last)",
            "\u001b[0;32m<ipython-input-33-f555bafa4820>\u001b[0m in \u001b[0;36m<module>\u001b[0;34m()\u001b[0m\n\u001b[0;32m----> 1\u001b[0;31m \u001b[0mlen\u001b[0m\u001b[0;34m(\u001b[0m\u001b[0mst_stst\u001b[0m\u001b[0;34m)\u001b[0m\u001b[0;34m\u001b[0m\u001b[0;34m\u001b[0m\u001b[0m\n\u001b[0m",
            "\u001b[0;31mNameError\u001b[0m: name 'st_stst' is not defined"
          ]
        }
      ]
    },
    {
      "cell_type": "markdown",
      "source": [
        "# List Slicing `: `"
      ],
      "metadata": {
        "id": "t2leJFVvl0i6"
      }
    },
    {
      "cell_type": "code",
      "source": [
        "list_a"
      ],
      "metadata": {
        "id": "I8xqcAR9lym7",
        "outputId": "45f99427-c8ff-4950-cb28-b432040fde48",
        "colab": {
          "base_uri": "https://localhost:8080/"
        }
      },
      "execution_count": 34,
      "outputs": [
        {
          "output_type": "execute_result",
          "data": {
            "text/plain": [
              "[1, 2, 3, 4, 5, 6]"
            ]
          },
          "metadata": {},
          "execution_count": 34
        }
      ]
    },
    {
      "cell_type": "code",
      "source": [
        "list_a[2]"
      ],
      "metadata": {
        "id": "3qC_7seGl39B",
        "outputId": "a97ad3fa-d0e1-4130-89ba-81ed13b3caf6",
        "colab": {
          "base_uri": "https://localhost:8080/"
        }
      },
      "execution_count": 35,
      "outputs": [
        {
          "output_type": "execute_result",
          "data": {
            "text/plain": [
              "3"
            ]
          },
          "metadata": {},
          "execution_count": 35
        }
      ]
    },
    {
      "cell_type": "code",
      "source": [
        "list_a[-3:] # : colon"
      ],
      "metadata": {
        "id": "fG3TuWRsl5Tv",
        "outputId": "b0ea00f9-478f-46db-82e8-535aa8a2ef94",
        "colab": {
          "base_uri": "https://localhost:8080/"
        }
      },
      "execution_count": 36,
      "outputs": [
        {
          "output_type": "execute_result",
          "data": {
            "text/plain": [
              "[4, 5, 6]"
            ]
          },
          "metadata": {},
          "execution_count": 36
        }
      ]
    },
    {
      "cell_type": "code",
      "source": [
        "list_a[1:4]"
      ],
      "metadata": {
        "id": "xZETQVOPl6bb",
        "outputId": "0614c277-722a-4729-b461-324c13dc55dd",
        "colab": {
          "base_uri": "https://localhost:8080/"
        }
      },
      "execution_count": 37,
      "outputs": [
        {
          "output_type": "execute_result",
          "data": {
            "text/plain": [
              "[2, 3, 4]"
            ]
          },
          "metadata": {},
          "execution_count": 37
        }
      ]
    },
    {
      "cell_type": "code",
      "source": [
        "list_a[:4]"
      ],
      "metadata": {
        "id": "3QJKycAJl7zN",
        "outputId": "60fc876e-82fd-4c71-dce2-b969ef1f4375",
        "colab": {
          "base_uri": "https://localhost:8080/"
        }
      },
      "execution_count": 38,
      "outputs": [
        {
          "output_type": "execute_result",
          "data": {
            "text/plain": [
              "[1, 2, 3, 4]"
            ]
          },
          "metadata": {},
          "execution_count": 38
        }
      ]
    },
    {
      "cell_type": "code",
      "source": [
        "list_a[-3:]"
      ],
      "metadata": {
        "id": "pnj9kmb0l89p",
        "outputId": "f83e9356-6d21-4da0-cf12-304840f97a1e",
        "colab": {
          "base_uri": "https://localhost:8080/"
        }
      },
      "execution_count": 39,
      "outputs": [
        {
          "output_type": "execute_result",
          "data": {
            "text/plain": [
              "[4, 5, 6]"
            ]
          },
          "metadata": {},
          "execution_count": 39
        }
      ]
    },
    {
      "cell_type": "code",
      "source": [
        "list_a[:]"
      ],
      "metadata": {
        "id": "uHXenWJTl-lt",
        "outputId": "59407506-e796-459d-f71a-d76524da42e9",
        "colab": {
          "base_uri": "https://localhost:8080/"
        }
      },
      "execution_count": 40,
      "outputs": [
        {
          "output_type": "execute_result",
          "data": {
            "text/plain": [
              "[1, 2, 3, 4, 5, 6]"
            ]
          },
          "metadata": {},
          "execution_count": 40
        }
      ]
    },
    {
      "cell_type": "markdown",
      "source": [
        "## **step**"
      ],
      "metadata": {
        "id": "ZNgSZZgpmBtD"
      }
    },
    {
      "cell_type": "code",
      "source": [
        "list_c = [1,2,3,4,5,6,7,8,9,10,11,12,13]"
      ],
      "metadata": {
        "id": "Z_Q3E0EUl_55"
      },
      "execution_count": 41,
      "outputs": []
    },
    {
      "cell_type": "code",
      "source": [
        "list_c[:10:]"
      ],
      "metadata": {
        "id": "jpP2kmUzmGC9",
        "outputId": "3375da2b-6005-4797-b7a8-a06e1abc8f31",
        "colab": {
          "base_uri": "https://localhost:8080/"
        }
      },
      "execution_count": 42,
      "outputs": [
        {
          "output_type": "execute_result",
          "data": {
            "text/plain": [
              "[1, 2, 3, 4, 5, 6, 7, 8, 9, 10]"
            ]
          },
          "metadata": {},
          "execution_count": 42
        }
      ]
    },
    {
      "cell_type": "code",
      "source": [
        "list_c[:10:2]"
      ],
      "metadata": {
        "id": "1tO3lsXjmHFn",
        "outputId": "adeb956c-8362-4d1b-eae2-b965c5c025d4",
        "colab": {
          "base_uri": "https://localhost:8080/"
        }
      },
      "execution_count": 43,
      "outputs": [
        {
          "output_type": "execute_result",
          "data": {
            "text/plain": [
              "[1, 3, 5, 7, 9]"
            ]
          },
          "metadata": {},
          "execution_count": 43
        }
      ]
    },
    {
      "cell_type": "code",
      "source": [
        "list_c[::-1]"
      ],
      "metadata": {
        "id": "An-vvzMkmIWM",
        "outputId": "d2d10c39-21db-41df-e08e-7b62ad0afb44",
        "colab": {
          "base_uri": "https://localhost:8080/"
        }
      },
      "execution_count": 44,
      "outputs": [
        {
          "output_type": "execute_result",
          "data": {
            "text/plain": [
              "[13, 12, 11, 10, 9, 8, 7, 6, 5, 4, 3, 2, 1]"
            ]
          },
          "metadata": {},
          "execution_count": 44
        }
      ]
    },
    {
      "cell_type": "markdown",
      "source": [
        "# range()"
      ],
      "metadata": {
        "id": "jXTjFtmAmKzu"
      }
    },
    {
      "cell_type": "code",
      "source": [
        "range(21)"
      ],
      "metadata": {
        "id": "CwTUE-lamJaN",
        "outputId": "672f5fb4-1150-4f70-b713-cf0580a33462",
        "colab": {
          "base_uri": "https://localhost:8080/"
        }
      },
      "execution_count": 45,
      "outputs": [
        {
          "output_type": "execute_result",
          "data": {
            "text/plain": [
              "range(0, 21)"
            ]
          },
          "metadata": {},
          "execution_count": 45
        }
      ]
    },
    {
      "cell_type": "code",
      "source": [
        "a = list(range(21))"
      ],
      "metadata": {
        "id": "QExpyu5lmM46"
      },
      "execution_count": 46,
      "outputs": []
    },
    {
      "cell_type": "code",
      "source": [
        "a"
      ],
      "metadata": {
        "id": "abIrxOWXmN9e",
        "outputId": "731cdb7f-bcb2-442a-926a-8bcb778e8448",
        "colab": {
          "base_uri": "https://localhost:8080/"
        }
      },
      "execution_count": 47,
      "outputs": [
        {
          "output_type": "execute_result",
          "data": {
            "text/plain": [
              "[0, 1, 2, 3, 4, 5, 6, 7, 8, 9, 10, 11, 12, 13, 14, 15, 16, 17, 18, 19, 20]"
            ]
          },
          "metadata": {},
          "execution_count": 47
        }
      ]
    },
    {
      "cell_type": "code",
      "source": [
        "list(range(1,21))"
      ],
      "metadata": {
        "id": "VF7MDp3ImPCn",
        "outputId": "b2c3d63d-745f-4657-c5fc-0a34ed515caa",
        "colab": {
          "base_uri": "https://localhost:8080/"
        }
      },
      "execution_count": 48,
      "outputs": [
        {
          "output_type": "execute_result",
          "data": {
            "text/plain": [
              "[1, 2, 3, 4, 5, 6, 7, 8, 9, 10, 11, 12, 13, 14, 15, 16, 17, 18, 19, 20]"
            ]
          },
          "metadata": {},
          "execution_count": 48
        }
      ]
    },
    {
      "cell_type": "markdown",
      "source": [
        "## HW2 คำนวณเวลาเป็นวินาทีของเวลาต่อไปนี้โดยใช้คำสั่่ง split() ช่วย (print ออกมาให้สวยงาม)\n",
        "\n",
        "- 12:30:15\n",
        "\n",
        "- 13:41:07\n",
        "\n",
        "- 09:11:50\n",
        "\n",
        "- 21:30:15\n",
        "\n",
        "- 03:10:15\n"
      ],
      "metadata": {
        "id": "IRxQtmIlmThD"
      }
    },
    {
      "cell_type": "code",
      "source": [
        "# 01:00:00\n",
        "a = 1*60*60\n",
        "print(a)"
      ],
      "metadata": {
        "id": "0wBXPV2bmQDE",
        "outputId": "8bd376ae-ff11-49b1-e8e0-79a9e01d1a77",
        "colab": {
          "base_uri": "https://localhost:8080/"
        }
      },
      "execution_count": 49,
      "outputs": [
        {
          "output_type": "stream",
          "name": "stdout",
          "text": [
            "3600\n"
          ]
        }
      ]
    },
    {
      "cell_type": "code",
      "source": [
        "# 01:02:03\n",
        "a = (1*60*60)+(2*60)+3\n",
        "print(f'01:02:03 แปลงเป็นวินาที ได้ {a} วินาที')"
      ],
      "metadata": {
        "id": "DimjFBGqmeUF",
        "outputId": "8885073e-6701-46ec-fc08-99b0d8a78fbb",
        "colab": {
          "base_uri": "https://localhost:8080/"
        }
      },
      "execution_count": 50,
      "outputs": [
        {
          "output_type": "stream",
          "name": "stdout",
          "text": [
            "01:02:03 แปลงเป็นวินาที ได้ 3723 วินาที\n"
          ]
        }
      ]
    },
    {
      "cell_type": "code",
      "source": [
        "q1 = '12:30:15'\n",
        "q1_sp = q1.split(':')\n",
        "print(q1_sp)\n",
        "answer1=int(q1_sp[0])*3600+int(q1_sp[1])*60+int(q1_sp[2])\n",
        "print(\"ตอบ แปลงเป็นวินาที ได้ =\",answer1,\"วินาที\")"
      ],
      "metadata": {
        "id": "I4xm2yhNmflW",
        "outputId": "21ce1776-0d96-4fc0-c406-cd548a68233a",
        "colab": {
          "base_uri": "https://localhost:8080/"
        }
      },
      "execution_count": 51,
      "outputs": [
        {
          "output_type": "stream",
          "name": "stdout",
          "text": [
            "['12', '30', '15']\n",
            "ตอบ แปลงเป็นวินาที ได้ = 45015 วินาที\n"
          ]
        }
      ]
    },
    {
      "cell_type": "code",
      "source": [
        "q2 = '13:41:07'\n",
        "q2_sp = q2.split(':')\n",
        "print(q2_sp)\n",
        "answer2=int(q2_sp[0])*3600+int(q2_sp[1])*60+int(q2_sp[2])\n",
        "print(\"ตอบ แปลงเป็นวินาที ได้ =\",answer2,\"วินาที\")"
      ],
      "metadata": {
        "id": "fMvuOtzomhVy",
        "outputId": "5eb6c409-2a68-4040-8c2f-2f04439f6d26",
        "colab": {
          "base_uri": "https://localhost:8080/"
        }
      },
      "execution_count": 52,
      "outputs": [
        {
          "output_type": "stream",
          "name": "stdout",
          "text": [
            "['13', '41', '07']\n",
            "ตอบ แปลงเป็นวินาที ได้ = 49267 วินาที\n"
          ]
        }
      ]
    },
    {
      "cell_type": "code",
      "source": [
        "q3 = '09:11:50'\n",
        "q3_sp = q3.split(':')\n",
        "print(q3_sp)\n",
        "answer3=int(q3_sp[0])*3600+int(q3_sp[1])*60+int(q3_sp[2])\n",
        "print(\"ตอบ แปลงเป็นวินาที ได้ =\",answer3,\"วินาที\")"
      ],
      "metadata": {
        "id": "51TadO2imi2N",
        "outputId": "bde3fe0e-dc11-408c-ebcf-9821c8772a3b",
        "colab": {
          "base_uri": "https://localhost:8080/"
        }
      },
      "execution_count": 53,
      "outputs": [
        {
          "output_type": "stream",
          "name": "stdout",
          "text": [
            "['09', '11', '50']\n",
            "ตอบ แปลงเป็นวินาที ได้ = 33110 วินาที\n"
          ]
        }
      ]
    },
    {
      "cell_type": "code",
      "source": [
        "q4 = '21:30:15'\n",
        "q4_sp = q4.split(':')\n",
        "print(q4_sp)\n",
        "answer4=int(q4_sp[0])*3600+int(q4_sp[1])*60+int(q4_sp[2])\n",
        "print(\"ตอบ แปลงเป็นวินาที ได้ =\",answer4,\"วินาที\")"
      ],
      "metadata": {
        "id": "1rj-j7wJmkQD",
        "outputId": "57ef5715-5c9a-4fc0-b34a-e54b1aec6cac",
        "colab": {
          "base_uri": "https://localhost:8080/"
        }
      },
      "execution_count": 54,
      "outputs": [
        {
          "output_type": "stream",
          "name": "stdout",
          "text": [
            "['21', '30', '15']\n",
            "ตอบ แปลงเป็นวินาที ได้ = 77415 วินาที\n"
          ]
        }
      ]
    },
    {
      "cell_type": "code",
      "source": [
        "q5 = '03:10:15'\n",
        "q5_sp = q5.split(':')\n",
        "print(q5_sp)\n",
        "answer5=int(q5_sp[0])*3600+int(q5_sp[1])*60+int(q5_sp[2])\n",
        "print(\"ตอบ แปลงเป็นวินาที ได้ =\",answer5,\"วินาที\")"
      ],
      "metadata": {
        "id": "0PPX8nQxmlfO",
        "outputId": "271c1429-dee9-43b1-92ca-02b536ce851c",
        "colab": {
          "base_uri": "https://localhost:8080/"
        }
      },
      "execution_count": 55,
      "outputs": [
        {
          "output_type": "stream",
          "name": "stdout",
          "text": [
            "['03', '10', '15']\n",
            "ตอบ แปลงเป็นวินาที ได้ = 11415 วินาที\n"
          ]
        }
      ]
    },
    {
      "cell_type": "code",
      "source": [
        ""
      ],
      "metadata": {
        "id": "hdsbNd-EmnDp"
      },
      "execution_count": null,
      "outputs": []
    }
  ]
}