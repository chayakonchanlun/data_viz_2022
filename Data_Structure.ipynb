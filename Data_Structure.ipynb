{
  "nbformat": 4,
  "nbformat_minor": 0,
  "metadata": {
    "colab": {
      "name": "Data Structure.ipynb",
      "provenance": [],
      "authorship_tag": "ABX9TyOGiZHe0aiy/nliH7DchzcS",
      "include_colab_link": true
    },
    "kernelspec": {
      "name": "python3",
      "display_name": "Python 3"
    },
    "language_info": {
      "name": "python"
    }
  },
  "cells": [
    {
      "cell_type": "markdown",
      "metadata": {
        "id": "view-in-github",
        "colab_type": "text"
      },
      "source": [
        "<a href=\"https://colab.research.google.com/github/chayakonchanlun/data_viz_2022/blob/main/Data_Structure.ipynb\" target=\"_parent\"><img src=\"https://colab.research.google.com/assets/colab-badge.svg\" alt=\"Open In Colab\"/></a>"
      ]
    },
    {
      "cell_type": "markdown",
      "source": [
        "# Data Structure (โครงสร้างข้อมูล)\n",
        "\n",
        "การเก็บข้อมูลหลายๆตัวไว้ด้วยกันอย่างเป็นระเบียบ\n",
        "\n",
        "เก็บอะไรก็ได้\n",
        "\n",
        "ลำดับในการเก็บ มีความสำคัญ"
      ],
      "metadata": {
        "id": "HIQDxQl4j-Rl"
      }
    },
    {
      "cell_type": "code",
      "source": [
        "list_a = [1,2,3,4,5,6] #[ ] square brackets"
      ],
      "metadata": {
        "id": "ttOk55gVkffb"
      },
      "execution_count": 112,
      "outputs": []
    },
    {
      "cell_type": "code",
      "source": [
        "list_a"
      ],
      "metadata": {
        "id": "qatguenzkogH",
        "outputId": "3ac3e4f7-5cb1-41e9-8c79-1d09215d0464",
        "colab": {
          "base_uri": "https://localhost:8080/"
        }
      },
      "execution_count": 113,
      "outputs": [
        {
          "output_type": "execute_result",
          "data": {
            "text/plain": [
              "[1, 2, 3, 4, 5, 6]"
            ]
          },
          "metadata": {},
          "execution_count": 113
        }
      ]
    },
    {
      "cell_type": "code",
      "source": [
        "list_b = ['ab',2,3.14, list_a]"
      ],
      "metadata": {
        "id": "l5UV8uFikpzE"
      },
      "execution_count": 114,
      "outputs": []
    },
    {
      "cell_type": "code",
      "source": [
        "list_b"
      ],
      "metadata": {
        "id": "hBtEJRdmkrvD",
        "outputId": "56bef423-7b0e-4a29-aa7e-d4dd85299bff",
        "colab": {
          "base_uri": "https://localhost:8080/"
        }
      },
      "execution_count": 115,
      "outputs": [
        {
          "output_type": "execute_result",
          "data": {
            "text/plain": [
              "['ab', 2, 3.14, [1, 2, 3, 4, 5, 6]]"
            ]
          },
          "metadata": {},
          "execution_count": 115
        }
      ]
    },
    {
      "cell_type": "markdown",
      "source": [
        "## indexing การชี้สมาชิกใน list ด้วย เลขลำดับของ **list**"
      ],
      "metadata": {
        "id": "tYWgF2iykvC7"
      }
    },
    {
      "cell_type": "code",
      "source": [
        "list_a[3]"
      ],
      "metadata": {
        "id": "Q1qGQyfuktQk",
        "outputId": "1c0ac7c8-b390-4268-fc5d-bd2167091e37",
        "colab": {
          "base_uri": "https://localhost:8080/"
        }
      },
      "execution_count": 116,
      "outputs": [
        {
          "output_type": "execute_result",
          "data": {
            "text/plain": [
              "4"
            ]
          },
          "metadata": {},
          "execution_count": 116
        }
      ]
    },
    {
      "cell_type": "code",
      "source": [
        "list_b[3]"
      ],
      "metadata": {
        "id": "LlsHMTojkxBT",
        "outputId": "282e8078-6c7f-48ab-dd7f-7c48b7181e4c",
        "colab": {
          "base_uri": "https://localhost:8080/"
        }
      },
      "execution_count": 117,
      "outputs": [
        {
          "output_type": "execute_result",
          "data": {
            "text/plain": [
              "[1, 2, 3, 4, 5, 6]"
            ]
          },
          "metadata": {},
          "execution_count": 117
        }
      ]
    },
    {
      "cell_type": "code",
      "source": [
        "list_b[3][4]"
      ],
      "metadata": {
        "id": "F2U7tldXkybH",
        "outputId": "d3fa5d69-00c3-432d-d5c8-8c058f029513",
        "colab": {
          "base_uri": "https://localhost:8080/"
        }
      },
      "execution_count": 118,
      "outputs": [
        {
          "output_type": "execute_result",
          "data": {
            "text/plain": [
              "5"
            ]
          },
          "metadata": {},
          "execution_count": 118
        }
      ]
    },
    {
      "cell_type": "code",
      "source": [
        "list_a [-1] #index -1 คือตัวสุดของ list"
      ],
      "metadata": {
        "id": "XcdHE9NLk2xm",
        "outputId": "5f3d94f0-9c4a-41e5-8ba5-b1ca30505b59",
        "colab": {
          "base_uri": "https://localhost:8080/"
        }
      },
      "execution_count": 119,
      "outputs": [
        {
          "output_type": "execute_result",
          "data": {
            "text/plain": [
              "6"
            ]
          },
          "metadata": {},
          "execution_count": 119
        }
      ]
    },
    {
      "cell_type": "code",
      "source": [
        "list_a[-4]"
      ],
      "metadata": {
        "id": "1E6Nyh1klGJj",
        "outputId": "be47476e-bed1-4d12-97b7-c287626d13af",
        "colab": {
          "base_uri": "https://localhost:8080/"
        }
      },
      "execution_count": 120,
      "outputs": [
        {
          "output_type": "execute_result",
          "data": {
            "text/plain": [
              "3"
            ]
          },
          "metadata": {},
          "execution_count": 120
        }
      ]
    },
    {
      "cell_type": "markdown",
      "source": [
        "# การสร้าง `list()`"
      ],
      "metadata": {
        "id": "ze79NEoJlIga"
      }
    },
    {
      "cell_type": "code",
      "source": [
        "list_x1 = [] #แบบที่ 1\n",
        "list_x2 = list() #แบบที่ 2"
      ],
      "metadata": {
        "id": "H16GsOaRlGss"
      },
      "execution_count": 121,
      "outputs": []
    },
    {
      "cell_type": "code",
      "source": [
        "print(list_x1)\n",
        "print(list_x2)"
      ],
      "metadata": {
        "id": "GHiQUruilOZq",
        "outputId": "db09fd23-4c37-4b68-8849-25dab98c1cc3",
        "colab": {
          "base_uri": "https://localhost:8080/"
        }
      },
      "execution_count": 122,
      "outputs": [
        {
          "output_type": "stream",
          "name": "stdout",
          "text": [
            "[]\n",
            "[]\n"
          ]
        }
      ]
    },
    {
      "cell_type": "markdown",
      "source": [
        "# เพิ่มสมาชิกเข้าไปใน list ด้วย `append()`"
      ],
      "metadata": {
        "id": "us5oXP-olSCU"
      }
    },
    {
      "cell_type": "code",
      "source": [
        "list_x1.append(2)"
      ],
      "metadata": {
        "id": "7_TScbPMlP5e"
      },
      "execution_count": 123,
      "outputs": []
    },
    {
      "cell_type": "code",
      "source": [
        "list_x1"
      ],
      "metadata": {
        "id": "KD8wsPF0lVUY",
        "outputId": "cedf0f04-0bff-474f-d710-0a8bf8ae1574",
        "colab": {
          "base_uri": "https://localhost:8080/"
        }
      },
      "execution_count": 124,
      "outputs": [
        {
          "output_type": "execute_result",
          "data": {
            "text/plain": [
              "[2]"
            ]
          },
          "metadata": {},
          "execution_count": 124
        }
      ]
    },
    {
      "cell_type": "code",
      "source": [
        "list_x1.append(4)\n",
        "print(list_x1)"
      ],
      "metadata": {
        "id": "DEHPkd2-lXLJ",
        "outputId": "47cca2bf-e5a7-4a0e-fac7-c155a757d217",
        "colab": {
          "base_uri": "https://localhost:8080/"
        }
      },
      "execution_count": 125,
      "outputs": [
        {
          "output_type": "stream",
          "name": "stdout",
          "text": [
            "[2, 4]\n"
          ]
        }
      ]
    },
    {
      "cell_type": "code",
      "source": [
        "list_x1[0]"
      ],
      "metadata": {
        "id": "I86UFFNdlYsf",
        "outputId": "ae9aa90f-d019-43d5-a9ea-710532f41e20",
        "colab": {
          "base_uri": "https://localhost:8080/"
        }
      },
      "execution_count": 126,
      "outputs": [
        {
          "output_type": "execute_result",
          "data": {
            "text/plain": [
              "2"
            ]
          },
          "metadata": {},
          "execution_count": 126
        }
      ]
    },
    {
      "cell_type": "code",
      "source": [
        "list_x1[-1]"
      ],
      "metadata": {
        "id": "_tMbljqylZ2r",
        "outputId": "07316660-6b69-4429-938c-26d5d5dc4d5f",
        "colab": {
          "base_uri": "https://localhost:8080/"
        }
      },
      "execution_count": 127,
      "outputs": [
        {
          "output_type": "execute_result",
          "data": {
            "text/plain": [
              "4"
            ]
          },
          "metadata": {},
          "execution_count": 127
        }
      ]
    },
    {
      "cell_type": "code",
      "source": [
        "list_x2"
      ],
      "metadata": {
        "id": "pBVylU5-latU",
        "outputId": "54641f2a-b69b-459a-96a2-4d0d376fc12c",
        "colab": {
          "base_uri": "https://localhost:8080/"
        }
      },
      "execution_count": 128,
      "outputs": [
        {
          "output_type": "execute_result",
          "data": {
            "text/plain": [
              "[]"
            ]
          },
          "metadata": {},
          "execution_count": 128
        }
      ]
    },
    {
      "cell_type": "code",
      "source": [
        "list_x2.append('ha')"
      ],
      "metadata": {
        "id": "VdBdOiCIlbq_"
      },
      "execution_count": 129,
      "outputs": []
    },
    {
      "cell_type": "code",
      "source": [
        "list_x2"
      ],
      "metadata": {
        "id": "8wsnmufMlcjF",
        "outputId": "2ee04a1c-7fcc-4bb3-89c7-2ae49cc65e79",
        "colab": {
          "base_uri": "https://localhost:8080/"
        }
      },
      "execution_count": 130,
      "outputs": [
        {
          "output_type": "execute_result",
          "data": {
            "text/plain": [
              "['ha']"
            ]
          },
          "metadata": {},
          "execution_count": 130
        }
      ]
    },
    {
      "cell_type": "markdown",
      "source": [
        "## ลบสมาชิกจาก list"
      ],
      "metadata": {
        "id": "yYulGhOqlfgT"
      }
    },
    {
      "cell_type": "code",
      "source": [
        "list_x1.append('ha')"
      ],
      "metadata": {
        "id": "g8pN9CD5ldu4"
      },
      "execution_count": 131,
      "outputs": []
    },
    {
      "cell_type": "code",
      "source": [
        "list_x1"
      ],
      "metadata": {
        "id": "l6QVAAlklhiF",
        "outputId": "39bf53db-2281-457e-a1ed-3e0d1cd14fb8",
        "colab": {
          "base_uri": "https://localhost:8080/"
        }
      },
      "execution_count": 132,
      "outputs": [
        {
          "output_type": "execute_result",
          "data": {
            "text/plain": [
              "[2, 4, 'ha']"
            ]
          },
          "metadata": {},
          "execution_count": 132
        }
      ]
    },
    {
      "cell_type": "code",
      "source": [
        "list_x1.pop()"
      ],
      "metadata": {
        "id": "NkdTzPk0lip8",
        "outputId": "921d2ef1-ae7b-4eb5-d1bc-f223d85636a0",
        "colab": {
          "base_uri": "https://localhost:8080/",
          "height": 0
        }
      },
      "execution_count": 133,
      "outputs": [
        {
          "output_type": "execute_result",
          "data": {
            "application/vnd.google.colaboratory.intrinsic+json": {
              "type": "string"
            },
            "text/plain": [
              "'ha'"
            ]
          },
          "metadata": {},
          "execution_count": 133
        }
      ]
    },
    {
      "cell_type": "code",
      "source": [
        "list_x1"
      ],
      "metadata": {
        "id": "dS7aBieglj3M",
        "outputId": "d7a227e6-5554-42e5-c584-3edeb205fac2",
        "colab": {
          "base_uri": "https://localhost:8080/"
        }
      },
      "execution_count": 134,
      "outputs": [
        {
          "output_type": "execute_result",
          "data": {
            "text/plain": [
              "[2, 4]"
            ]
          },
          "metadata": {},
          "execution_count": 134
        }
      ]
    },
    {
      "cell_type": "code",
      "source": [
        "list_x1.pop()\n",
        "print(list_x1)"
      ],
      "metadata": {
        "id": "AeSzrX9illAc",
        "outputId": "08510dcf-d81b-4480-aa09-d4daed7361bf",
        "colab": {
          "base_uri": "https://localhost:8080/"
        }
      },
      "execution_count": 135,
      "outputs": [
        {
          "output_type": "stream",
          "name": "stdout",
          "text": [
            "[2]\n"
          ]
        }
      ]
    },
    {
      "cell_type": "markdown",
      "source": [
        "## `len()` ตรวจสอบจำนวนสมาชิกของ list"
      ],
      "metadata": {
        "id": "PQuibixclnpS"
      }
    },
    {
      "cell_type": "code",
      "source": [
        "print(list_b)\n",
        "print(len(list_b))"
      ],
      "metadata": {
        "id": "gpHbEGoVlmRN",
        "outputId": "16c17aea-481c-4abf-b662-7a18f8aa36b0",
        "colab": {
          "base_uri": "https://localhost:8080/"
        }
      },
      "execution_count": 136,
      "outputs": [
        {
          "output_type": "stream",
          "name": "stdout",
          "text": [
            "['ab', 2, 3.14, [1, 2, 3, 4, 5, 6]]\n",
            "4\n"
          ]
        }
      ]
    },
    {
      "cell_type": "code",
      "source": [
        "len(list_a)"
      ],
      "metadata": {
        "id": "sM3d9-Kulp60",
        "outputId": "9e3ffc16-983b-4f2f-e73d-0c1c4d78cf2d",
        "colab": {
          "base_uri": "https://localhost:8080/"
        }
      },
      "execution_count": 137,
      "outputs": [
        {
          "output_type": "execute_result",
          "data": {
            "text/plain": [
              "6"
            ]
          },
          "metadata": {},
          "execution_count": 137
        }
      ]
    },
    {
      "cell_type": "markdown",
      "source": [
        "# String is a list of characters"
      ],
      "metadata": {
        "id": "6VE8B_TBls5q"
      }
    },
    {
      "cell_type": "code",
      "source": [
        "st_stat = 'Department of Statistics, Faculty of science'"
      ],
      "metadata": {
        "id": "YXIFhywMlrh4"
      },
      "execution_count": 138,
      "outputs": []
    },
    {
      "cell_type": "code",
      "source": [
        "st_stat[10]"
      ],
      "metadata": {
        "id": "bXEDqvDulvzT",
        "outputId": "93a6e836-2802-4acc-8cad-7983df7cf98f",
        "colab": {
          "base_uri": "https://localhost:8080/",
          "height": 35
        }
      },
      "execution_count": 139,
      "outputs": [
        {
          "output_type": "execute_result",
          "data": {
            "application/vnd.google.colaboratory.intrinsic+json": {
              "type": "string"
            },
            "text/plain": [
              "' '"
            ]
          },
          "metadata": {},
          "execution_count": 139
        }
      ]
    },
    {
      "cell_type": "code",
      "source": [
        "len(st_stst)"
      ],
      "metadata": {
        "id": "e_RFsMyYlxTL",
        "outputId": "3033702c-9bcf-48bc-f753-9f50b993ea94",
        "colab": {
          "base_uri": "https://localhost:8080/",
          "height": 166
        }
      },
      "execution_count": 140,
      "outputs": [
        {
          "output_type": "error",
          "ename": "NameError",
          "evalue": "ignored",
          "traceback": [
            "\u001b[0;31m---------------------------------------------------------------------------\u001b[0m",
            "\u001b[0;31mNameError\u001b[0m                                 Traceback (most recent call last)",
            "\u001b[0;32m<ipython-input-140-f555bafa4820>\u001b[0m in \u001b[0;36m<module>\u001b[0;34m()\u001b[0m\n\u001b[0;32m----> 1\u001b[0;31m \u001b[0mlen\u001b[0m\u001b[0;34m(\u001b[0m\u001b[0mst_stst\u001b[0m\u001b[0;34m)\u001b[0m\u001b[0;34m\u001b[0m\u001b[0;34m\u001b[0m\u001b[0m\n\u001b[0m",
            "\u001b[0;31mNameError\u001b[0m: name 'st_stst' is not defined"
          ]
        }
      ]
    },
    {
      "cell_type": "markdown",
      "source": [
        "# List Slicing `: `"
      ],
      "metadata": {
        "id": "t2leJFVvl0i6"
      }
    },
    {
      "cell_type": "code",
      "source": [
        "list_a"
      ],
      "metadata": {
        "id": "I8xqcAR9lym7",
        "outputId": "e2ae58e1-e574-4ca3-96f3-819e5b80df27",
        "colab": {
          "base_uri": "https://localhost:8080/"
        }
      },
      "execution_count": 141,
      "outputs": [
        {
          "output_type": "execute_result",
          "data": {
            "text/plain": [
              "[1, 2, 3, 4, 5, 6]"
            ]
          },
          "metadata": {},
          "execution_count": 141
        }
      ]
    },
    {
      "cell_type": "code",
      "source": [
        "list_a[2]"
      ],
      "metadata": {
        "id": "3qC_7seGl39B",
        "outputId": "6020df3a-a74f-4a33-9186-4e0826451e73",
        "colab": {
          "base_uri": "https://localhost:8080/"
        }
      },
      "execution_count": 142,
      "outputs": [
        {
          "output_type": "execute_result",
          "data": {
            "text/plain": [
              "3"
            ]
          },
          "metadata": {},
          "execution_count": 142
        }
      ]
    },
    {
      "cell_type": "code",
      "source": [
        "list_a[-3:] # : colon"
      ],
      "metadata": {
        "id": "fG3TuWRsl5Tv",
        "outputId": "186af9b6-014c-430d-efdb-78234d82bb35",
        "colab": {
          "base_uri": "https://localhost:8080/"
        }
      },
      "execution_count": 143,
      "outputs": [
        {
          "output_type": "execute_result",
          "data": {
            "text/plain": [
              "[4, 5, 6]"
            ]
          },
          "metadata": {},
          "execution_count": 143
        }
      ]
    },
    {
      "cell_type": "code",
      "source": [
        "list_a[1:4]"
      ],
      "metadata": {
        "id": "xZETQVOPl6bb",
        "outputId": "89371f62-7987-4ed8-f2eb-17802af0b8cd",
        "colab": {
          "base_uri": "https://localhost:8080/"
        }
      },
      "execution_count": 144,
      "outputs": [
        {
          "output_type": "execute_result",
          "data": {
            "text/plain": [
              "[2, 3, 4]"
            ]
          },
          "metadata": {},
          "execution_count": 144
        }
      ]
    },
    {
      "cell_type": "code",
      "source": [
        "list_a[:4]"
      ],
      "metadata": {
        "id": "3QJKycAJl7zN",
        "outputId": "836650ff-f0ab-486e-cb10-5faa7af1f431",
        "colab": {
          "base_uri": "https://localhost:8080/"
        }
      },
      "execution_count": 145,
      "outputs": [
        {
          "output_type": "execute_result",
          "data": {
            "text/plain": [
              "[1, 2, 3, 4]"
            ]
          },
          "metadata": {},
          "execution_count": 145
        }
      ]
    },
    {
      "cell_type": "code",
      "source": [
        "list_a[-3:]"
      ],
      "metadata": {
        "id": "pnj9kmb0l89p",
        "outputId": "47d03463-4cce-4887-c8c8-16a0da366117",
        "colab": {
          "base_uri": "https://localhost:8080/"
        }
      },
      "execution_count": 146,
      "outputs": [
        {
          "output_type": "execute_result",
          "data": {
            "text/plain": [
              "[4, 5, 6]"
            ]
          },
          "metadata": {},
          "execution_count": 146
        }
      ]
    },
    {
      "cell_type": "code",
      "source": [
        "list_a[:]"
      ],
      "metadata": {
        "id": "uHXenWJTl-lt",
        "outputId": "d8456b07-1b41-48a6-d8ee-9b767659ee91",
        "colab": {
          "base_uri": "https://localhost:8080/"
        }
      },
      "execution_count": 147,
      "outputs": [
        {
          "output_type": "execute_result",
          "data": {
            "text/plain": [
              "[1, 2, 3, 4, 5, 6]"
            ]
          },
          "metadata": {},
          "execution_count": 147
        }
      ]
    },
    {
      "cell_type": "markdown",
      "source": [
        "## **step**"
      ],
      "metadata": {
        "id": "ZNgSZZgpmBtD"
      }
    },
    {
      "cell_type": "code",
      "source": [
        "list_c = [1,2,3,4,5,6,7,8,9,10,11,12,13]"
      ],
      "metadata": {
        "id": "Z_Q3E0EUl_55"
      },
      "execution_count": 148,
      "outputs": []
    },
    {
      "cell_type": "code",
      "source": [
        "list_c[:10:]"
      ],
      "metadata": {
        "id": "jpP2kmUzmGC9",
        "outputId": "b2634712-d4d1-4c8f-90c1-5ac98383d020",
        "colab": {
          "base_uri": "https://localhost:8080/"
        }
      },
      "execution_count": 149,
      "outputs": [
        {
          "output_type": "execute_result",
          "data": {
            "text/plain": [
              "[1, 2, 3, 4, 5, 6, 7, 8, 9, 10]"
            ]
          },
          "metadata": {},
          "execution_count": 149
        }
      ]
    },
    {
      "cell_type": "code",
      "source": [
        "list_c[:10:2]"
      ],
      "metadata": {
        "id": "1tO3lsXjmHFn",
        "outputId": "c80020c7-1e5c-4633-a786-bacc31cf1aed",
        "colab": {
          "base_uri": "https://localhost:8080/"
        }
      },
      "execution_count": 150,
      "outputs": [
        {
          "output_type": "execute_result",
          "data": {
            "text/plain": [
              "[1, 3, 5, 7, 9]"
            ]
          },
          "metadata": {},
          "execution_count": 150
        }
      ]
    },
    {
      "cell_type": "code",
      "source": [
        "list_c[::-1]"
      ],
      "metadata": {
        "id": "An-vvzMkmIWM",
        "outputId": "05976c36-5e05-4dd1-9404-06fc87f580d6",
        "colab": {
          "base_uri": "https://localhost:8080/"
        }
      },
      "execution_count": 151,
      "outputs": [
        {
          "output_type": "execute_result",
          "data": {
            "text/plain": [
              "[13, 12, 11, 10, 9, 8, 7, 6, 5, 4, 3, 2, 1]"
            ]
          },
          "metadata": {},
          "execution_count": 151
        }
      ]
    },
    {
      "cell_type": "markdown",
      "source": [
        "# range()"
      ],
      "metadata": {
        "id": "jXTjFtmAmKzu"
      }
    },
    {
      "cell_type": "code",
      "source": [
        "range(21)"
      ],
      "metadata": {
        "id": "CwTUE-lamJaN",
        "outputId": "c07f61fc-3c7e-409e-b0de-7dd8940849b5",
        "colab": {
          "base_uri": "https://localhost:8080/"
        }
      },
      "execution_count": 152,
      "outputs": [
        {
          "output_type": "execute_result",
          "data": {
            "text/plain": [
              "range(0, 21)"
            ]
          },
          "metadata": {},
          "execution_count": 152
        }
      ]
    },
    {
      "cell_type": "code",
      "source": [
        "a = list(range(21))"
      ],
      "metadata": {
        "id": "QExpyu5lmM46"
      },
      "execution_count": 153,
      "outputs": []
    },
    {
      "cell_type": "code",
      "source": [
        "a"
      ],
      "metadata": {
        "id": "abIrxOWXmN9e",
        "outputId": "3e2e0aea-6e69-43c2-e899-23756e07d627",
        "colab": {
          "base_uri": "https://localhost:8080/"
        }
      },
      "execution_count": 155,
      "outputs": [
        {
          "output_type": "execute_result",
          "data": {
            "text/plain": [
              "[0, 1, 2, 3, 4, 5, 6, 7, 8, 9, 10, 11, 12, 13, 14, 15, 16, 17, 18, 19, 20]"
            ]
          },
          "metadata": {},
          "execution_count": 155
        }
      ]
    },
    {
      "cell_type": "code",
      "source": [
        "list(range(1,21))"
      ],
      "metadata": {
        "id": "VF7MDp3ImPCn",
        "outputId": "d0c6aeda-1ae4-4d0f-af8a-e335d1af2177",
        "colab": {
          "base_uri": "https://localhost:8080/"
        }
      },
      "execution_count": 154,
      "outputs": [
        {
          "output_type": "execute_result",
          "data": {
            "text/plain": [
              "[1, 2, 3, 4, 5, 6, 7, 8, 9, 10, 11, 12, 13, 14, 15, 16, 17, 18, 19, 20]"
            ]
          },
          "metadata": {},
          "execution_count": 154
        }
      ]
    },
    {
      "cell_type": "markdown",
      "source": [
        "## HW2 คำนวณเวลาเป็นวินาทีของเวลาต่อไปนี้โดยใช้คำสั่่ง split() ช่วย (print ออกมาให้สวยงาม)\n",
        "\n",
        "- 12:30:15\n",
        "\n",
        "- 13:41:07\n",
        "\n",
        "- 09:11:50\n",
        "\n",
        "- 21:30:15\n",
        "\n",
        "- 03:10:15\n"
      ],
      "metadata": {
        "id": "IRxQtmIlmThD"
      }
    },
    {
      "cell_type": "code",
      "source": [
        "# 01:00:00\n",
        "a = 1*60*60\n",
        "print(a)"
      ],
      "metadata": {
        "id": "0wBXPV2bmQDE",
        "outputId": "7712641e-4463-44b5-e91e-a3ca2580d511",
        "colab": {
          "base_uri": "https://localhost:8080/"
        }
      },
      "execution_count": 156,
      "outputs": [
        {
          "output_type": "stream",
          "name": "stdout",
          "text": [
            "3600\n"
          ]
        }
      ]
    },
    {
      "cell_type": "code",
      "source": [
        "# 01:02:03\n",
        "a = (1*60*60)+(2*60)+3\n",
        "print(f'01:02:03 แปลงเป็นวินาที ได้ {a} วินาที')"
      ],
      "metadata": {
        "id": "DimjFBGqmeUF",
        "outputId": "7179fc25-6920-41cf-e70d-aeb092651997",
        "colab": {
          "base_uri": "https://localhost:8080/"
        }
      },
      "execution_count": 157,
      "outputs": [
        {
          "output_type": "stream",
          "name": "stdout",
          "text": [
            "01:02:03 แปลงเป็นวินาที ได้ 3723 วินาที\n"
          ]
        }
      ]
    },
    {
      "cell_type": "code",
      "source": [
        "q1 = '12:30:15'\n",
        "q1_sp = q1.split(':')\n",
        "print(q1_sp)\n",
        "answer1=int(q1_sp[0])*3600+int(q1_sp[1])*60+int(q1_sp[2])\n",
        "print(\"ตอบ แปลงเป็นวินาที ได้ =\",answer1,\"วินาที\")"
      ],
      "metadata": {
        "id": "I4xm2yhNmflW",
        "outputId": "398297aa-d447-489e-b439-65c564778360",
        "colab": {
          "base_uri": "https://localhost:8080/"
        }
      },
      "execution_count": 158,
      "outputs": [
        {
          "output_type": "stream",
          "name": "stdout",
          "text": [
            "['12', '30', '15']\n",
            "ตอบ แปลงเป็นวินาที ได้ = 45015 วินาที\n"
          ]
        }
      ]
    },
    {
      "cell_type": "code",
      "source": [
        "q2 = '13:41:07'\n",
        "q2_sp = q2.split(':')\n",
        "print(q2_sp)\n",
        "answer2=int(q2_sp[0])*3600+int(q2_sp[1])*60+int(q2_sp[2])\n",
        "print(\"ตอบ แปลงเป็นวินาที ได้ =\",answer2,\"วินาที\")"
      ],
      "metadata": {
        "id": "fMvuOtzomhVy",
        "outputId": "1b128e10-da8f-4ff9-ea8e-54710ca4663b",
        "colab": {
          "base_uri": "https://localhost:8080/"
        }
      },
      "execution_count": 159,
      "outputs": [
        {
          "output_type": "stream",
          "name": "stdout",
          "text": [
            "['13', '41', '07']\n",
            "ตอบ แปลงเป็นวินาที ได้ = 49267 วินาที\n"
          ]
        }
      ]
    },
    {
      "cell_type": "code",
      "source": [
        "q3 = '09:11:50'\n",
        "q3_sp = q3.split(':')\n",
        "print(q3_sp)\n",
        "answer3=int(q3_sp[0])*3600+int(q3_sp[1])*60+int(q3_sp[2])\n",
        "print(\"ตอบ แปลงเป็นวินาที ได้ =\",answer3,\"วินาที\")"
      ],
      "metadata": {
        "id": "51TadO2imi2N",
        "outputId": "ad8ea287-07fa-4d64-f70f-dc953690994e",
        "colab": {
          "base_uri": "https://localhost:8080/"
        }
      },
      "execution_count": 160,
      "outputs": [
        {
          "output_type": "stream",
          "name": "stdout",
          "text": [
            "['09', '11', '50']\n",
            "ตอบ แปลงเป็นวินาที ได้ = 33110 วินาที\n"
          ]
        }
      ]
    },
    {
      "cell_type": "code",
      "source": [
        "q4 = '21:30:15'\n",
        "q4_sp = q4.split(':')\n",
        "print(q4_sp)\n",
        "answer4=int(q4_sp[0])*3600+int(q4_sp[1])*60+int(q4_sp[2])\n",
        "print(\"ตอบ แปลงเป็นวินาที ได้ =\",answer4,\"วินาที\")"
      ],
      "metadata": {
        "id": "1rj-j7wJmkQD",
        "outputId": "8613b9c4-c648-43bf-9ac5-7c2a3c301fd8",
        "colab": {
          "base_uri": "https://localhost:8080/"
        }
      },
      "execution_count": 161,
      "outputs": [
        {
          "output_type": "stream",
          "name": "stdout",
          "text": [
            "['21', '30', '15']\n",
            "ตอบ แปลงเป็นวินาที ได้ = 77415 วินาที\n"
          ]
        }
      ]
    },
    {
      "cell_type": "code",
      "source": [
        "q5 = '03:10:15'\n",
        "q5_sp = q5.split(':')\n",
        "print(q5_sp)\n",
        "answer5=int(q5_sp[0])*3600+int(q5_sp[1])*60+int(q5_sp[2])\n",
        "print(\"ตอบ แปลงเป็นวินาที ได้ =\",answer5,\"วินาที\")"
      ],
      "metadata": {
        "id": "0PPX8nQxmlfO",
        "outputId": "592f2136-7da2-4549-d241-50428fc59c79",
        "colab": {
          "base_uri": "https://localhost:8080/"
        }
      },
      "execution_count": 162,
      "outputs": [
        {
          "output_type": "stream",
          "name": "stdout",
          "text": [
            "['03', '10', '15']\n",
            "ตอบ แปลงเป็นวินาที ได้ = 11415 วินาที\n"
          ]
        }
      ]
    },
    {
      "cell_type": "markdown",
      "source": [
        "# **Dictionary**\n",
        "\n",
        "อัพเกรดมาจาก list นิดนึง\n",
        "\n",
        "มีคุณสมบัติคล้าย list เลย เก็บอะไรก็ได้\n",
        "\n",
        "index เป็นอะไรก็ได้ ไม่จำเป็นต้องเป็นเลขลำดับ\n",
        "\n",
        "ลำดับไม่ม่ความสำคัญ"
      ],
      "metadata": {
        "id": "ALVHZK_ObtFr"
      }
    },
    {
      "cell_type": "markdown",
      "source": [
        "## สร้าง Dictionary"
      ],
      "metadata": {
        "id": "WUwAG-P8byey"
      }
    },
    {
      "cell_type": "code",
      "source": [
        "dict_a = {1: 'Happy','N' : 'New','2022':'Year'} # { } curly brackets"
      ],
      "metadata": {
        "id": "RluKUMiAbrcx"
      },
      "execution_count": 164,
      "outputs": []
    },
    {
      "cell_type": "markdown",
      "source": [
        "## การชี้สมาชิกใน **Dictionary**"
      ],
      "metadata": {
        "id": "3MAHDrvGb3z7"
      }
    },
    {
      "cell_type": "code",
      "source": [
        "dict_a[1]"
      ],
      "metadata": {
        "id": "OEd77DKYb01m",
        "outputId": "45059e5c-01f8-46a7-c55f-c891023c22af",
        "colab": {
          "base_uri": "https://localhost:8080/",
          "height": 35
        }
      },
      "execution_count": 165,
      "outputs": [
        {
          "output_type": "execute_result",
          "data": {
            "application/vnd.google.colaboratory.intrinsic+json": {
              "type": "string"
            },
            "text/plain": [
              "'Happy'"
            ]
          },
          "metadata": {},
          "execution_count": 165
        }
      ]
    },
    {
      "cell_type": "code",
      "source": [
        "dict_a['N']"
      ],
      "metadata": {
        "id": "DdSrC33rb7PK",
        "outputId": "d8b7e0a4-7e1a-4c3f-d253-8b1afef21072",
        "colab": {
          "base_uri": "https://localhost:8080/",
          "height": 35
        }
      },
      "execution_count": 166,
      "outputs": [
        {
          "output_type": "execute_result",
          "data": {
            "application/vnd.google.colaboratory.intrinsic+json": {
              "type": "string"
            },
            "text/plain": [
              "'New'"
            ]
          },
          "metadata": {},
          "execution_count": 166
        }
      ]
    },
    {
      "cell_type": "code",
      "source": [
        "dict_a.keys()"
      ],
      "metadata": {
        "id": "SPgYIDnYb8gz",
        "outputId": "c5cb67cd-b178-4949-915a-eabcff086e3b",
        "colab": {
          "base_uri": "https://localhost:8080/"
        }
      },
      "execution_count": 167,
      "outputs": [
        {
          "output_type": "execute_result",
          "data": {
            "text/plain": [
              "dict_keys([1, 'N', '2022'])"
            ]
          },
          "metadata": {},
          "execution_count": 167
        }
      ]
    },
    {
      "cell_type": "code",
      "source": [
        "dict_a.values()"
      ],
      "metadata": {
        "id": "oNCjvMgmb9qm",
        "outputId": "557a9a16-1cc9-4f09-9c50-6ca781b9c70d",
        "colab": {
          "base_uri": "https://localhost:8080/"
        }
      },
      "execution_count": 168,
      "outputs": [
        {
          "output_type": "execute_result",
          "data": {
            "text/plain": [
              "dict_values(['Happy', 'New', 'Year'])"
            ]
          },
          "metadata": {},
          "execution_count": 168
        }
      ]
    },
    {
      "cell_type": "markdown",
      "source": [
        "## การเพิ่มสมาชิกลงไปใน Dictionry"
      ],
      "metadata": {
        "id": "oFkatPLlcAOL"
      }
    },
    {
      "cell_type": "code",
      "source": [
        "dict_a[7] = 3.14"
      ],
      "metadata": {
        "id": "W7-hfOCEb-kQ"
      },
      "execution_count": 169,
      "outputs": []
    },
    {
      "cell_type": "code",
      "source": [
        "dict_a"
      ],
      "metadata": {
        "id": "LrnGIFlrcB7R",
        "outputId": "92689154-5943-4f36-ceb5-63b6d82cb382",
        "colab": {
          "base_uri": "https://localhost:8080/"
        }
      },
      "execution_count": 170,
      "outputs": [
        {
          "output_type": "execute_result",
          "data": {
            "text/plain": [
              "{1: 'Happy', '2022': 'Year', 7: 3.14, 'N': 'New'}"
            ]
          },
          "metadata": {},
          "execution_count": 170
        }
      ]
    },
    {
      "cell_type": "code",
      "source": [
        "dict_a['N'] = 'NNNNEEEEWWWW'"
      ],
      "metadata": {
        "id": "e0YMv5f5cK4C"
      },
      "execution_count": 171,
      "outputs": []
    },
    {
      "cell_type": "code",
      "source": [
        "dict_a"
      ],
      "metadata": {
        "id": "3LSI_OO_cMA3",
        "outputId": "773b10d2-7768-42b6-8917-1c4d47822cf8",
        "colab": {
          "base_uri": "https://localhost:8080/"
        }
      },
      "execution_count": 172,
      "outputs": [
        {
          "output_type": "execute_result",
          "data": {
            "text/plain": [
              "{1: 'Happy', '2022': 'Year', 7: 3.14, 'N': 'NNNNEEEEWWWW'}"
            ]
          },
          "metadata": {},
          "execution_count": 172
        }
      ]
    },
    {
      "cell_type": "markdown",
      "source": [
        "# **Numpy Array**\n",
        "\n",
        "เก็บได้แต่ตัวเลข เพราไม่รู้จะเก็บตัวหลังสือในรูปแบบ 2 มิติ 3 มิติไปทำไม นั่นแหละ\n",
        "\n",
        "อ้างอิงโดยใช้พิกัด ( 2 มิติ ก็มองเป็น Matrix)"
      ],
      "metadata": {
        "id": "SyYOHTZCcO5r"
      }
    },
    {
      "cell_type": "code",
      "source": [
        "import numpy # เอามาใช้งาน"
      ],
      "metadata": {
        "id": "6AgZGK9UcNKi"
      },
      "execution_count": 173,
      "outputs": []
    },
    {
      "cell_type": "markdown",
      "source": [
        "## 1D array"
      ],
      "metadata": {
        "id": "Lqp-dAfCcTY6"
      }
    },
    {
      "cell_type": "code",
      "source": [
        "list_A = [1,2,3,4,5]"
      ],
      "metadata": {
        "id": "lwBK8IvxcSCQ"
      },
      "execution_count": 174,
      "outputs": []
    },
    {
      "cell_type": "code",
      "source": [
        "arr_a = numpy.array(list_A) #arrar 1 มิติ เป็นเส้นยาวๆ"
      ],
      "metadata": {
        "id": "_TA1WC_6cVGX"
      },
      "execution_count": 175,
      "outputs": []
    },
    {
      "cell_type": "code",
      "source": [
        "arr_a"
      ],
      "metadata": {
        "id": "ZaropTkGcWD8",
        "outputId": "5d4ea828-9c40-4d37-8563-53ff2cc58cb9",
        "colab": {
          "base_uri": "https://localhost:8080/"
        }
      },
      "execution_count": 176,
      "outputs": [
        {
          "output_type": "execute_result",
          "data": {
            "text/plain": [
              "array([1, 2, 3, 4, 5])"
            ]
          },
          "metadata": {},
          "execution_count": 176
        }
      ]
    },
    {
      "cell_type": "code",
      "source": [
        "list_A"
      ],
      "metadata": {
        "id": "78f43iJLcW21",
        "outputId": "23543dd0-ce2f-4129-eb3f-12e97d2000df",
        "colab": {
          "base_uri": "https://localhost:8080/"
        }
      },
      "execution_count": 177,
      "outputs": [
        {
          "output_type": "execute_result",
          "data": {
            "text/plain": [
              "[1, 2, 3, 4, 5]"
            ]
          },
          "metadata": {},
          "execution_count": 177
        }
      ]
    },
    {
      "cell_type": "code",
      "source": [
        "arr_a[0]"
      ],
      "metadata": {
        "id": "heBxGqgrcX2w",
        "outputId": "84de7734-619a-412d-becf-d5f3f77cb21a",
        "colab": {
          "base_uri": "https://localhost:8080/"
        }
      },
      "execution_count": 178,
      "outputs": [
        {
          "output_type": "execute_result",
          "data": {
            "text/plain": [
              "1"
            ]
          },
          "metadata": {},
          "execution_count": 178
        }
      ]
    },
    {
      "cell_type": "code",
      "source": [
        "list_A[0]"
      ],
      "metadata": {
        "id": "_Td-nIuAcY5W",
        "outputId": "6ff7203d-bf4a-49f1-bc04-3818fb3fb68d",
        "colab": {
          "base_uri": "https://localhost:8080/"
        }
      },
      "execution_count": 179,
      "outputs": [
        {
          "output_type": "execute_result",
          "data": {
            "text/plain": [
              "1"
            ]
          },
          "metadata": {},
          "execution_count": 179
        }
      ]
    },
    {
      "cell_type": "code",
      "source": [
        "5 *arr_a # คุณสมบัติของ Matrix ที่ชื่อว่า Scalar multiplication"
      ],
      "metadata": {
        "id": "MpMmJWYTcaNu",
        "outputId": "c390c429-7d3a-4d55-aa74-681b536d6af5",
        "colab": {
          "base_uri": "https://localhost:8080/"
        }
      },
      "execution_count": 180,
      "outputs": [
        {
          "output_type": "execute_result",
          "data": {
            "text/plain": [
              "array([ 5, 10, 15, 20, 25])"
            ]
          },
          "metadata": {},
          "execution_count": 180
        }
      ]
    },
    {
      "cell_type": "code",
      "source": [
        "5*list_A #ถ้า * มันจะเอามาต่อกัน 5 รอบ"
      ],
      "metadata": {
        "id": "fRSkouvjcbZP",
        "outputId": "0b6c48b5-4d79-447b-a3d3-c18b398066f4",
        "colab": {
          "base_uri": "https://localhost:8080/"
        }
      },
      "execution_count": 181,
      "outputs": [
        {
          "output_type": "execute_result",
          "data": {
            "text/plain": [
              "[1, 2, 3, 4, 5, 1, 2, 3, 4, 5, 1, 2, 3, 4, 5, 1, 2, 3, 4, 5, 1, 2, 3, 4, 5]"
            ]
          },
          "metadata": {},
          "execution_count": 181
        }
      ]
    },
    {
      "cell_type": "code",
      "source": [
        "[1, 2, 3, 4, 5, 1, 2, 3, 4, 5, 1, 2, 3, 4, 5, 1, 2, 3, 4, 5, 1, 2, 3, 4, 5]\n",
        "arr_b = numpy.array([10,20,30,40,50])"
      ],
      "metadata": {
        "id": "oGO9liJhccUv"
      },
      "execution_count": 182,
      "outputs": []
    },
    {
      "cell_type": "code",
      "source": [
        "print(arr_a)"
      ],
      "metadata": {
        "id": "RLoO6q2jcdSV",
        "outputId": "4244d500-9f5c-4013-88d4-b4ea5f683a0e",
        "colab": {
          "base_uri": "https://localhost:8080/"
        }
      },
      "execution_count": 183,
      "outputs": [
        {
          "output_type": "stream",
          "name": "stdout",
          "text": [
            "[1 2 3 4 5]\n"
          ]
        }
      ]
    },
    {
      "cell_type": "code",
      "source": [
        "arr_a + arr_b # ตัวที่อยู่ตำแหน่งเดียวกันมาบวกกัน"
      ],
      "metadata": {
        "id": "O3NuT1mJceRy",
        "outputId": "744d1415-0df6-4b02-d501-0594880e9c3b",
        "colab": {
          "base_uri": "https://localhost:8080/"
        }
      },
      "execution_count": 184,
      "outputs": [
        {
          "output_type": "execute_result",
          "data": {
            "text/plain": [
              "array([11, 22, 33, 44, 55])"
            ]
          },
          "metadata": {},
          "execution_count": 184
        }
      ]
    },
    {
      "cell_type": "markdown",
      "source": [
        "# 2D array"
      ],
      "metadata": {
        "id": "GXsw3AfIchEy"
      }
    },
    {
      "cell_type": "code",
      "source": [
        "import numpy as np # ตัวย่อ"
      ],
      "metadata": {
        "id": "3o9236qFcfbj"
      },
      "execution_count": 187,
      "outputs": []
    },
    {
      "cell_type": "code",
      "source": [
        "arr2_z = np.array([[1,2,3],[4,5,6]]) # list ใหญ่ 1 ตัว มีสมาชิกเป็น list ย่อย 2 list list ย่อยละ 3 ตัว"
      ],
      "metadata": {
        "id": "kgY0TVyNdGpC"
      },
      "execution_count": 188,
      "outputs": []
    },
    {
      "cell_type": "code",
      "source": [
        "arr2_z"
      ],
      "metadata": {
        "id": "Oktly4sxdHvv",
        "outputId": "bdcf9d80-596d-45d7-e0bd-91d4c0eea85b",
        "colab": {
          "base_uri": "https://localhost:8080/"
        }
      },
      "execution_count": 189,
      "outputs": [
        {
          "output_type": "execute_result",
          "data": {
            "text/plain": [
              "array([[1, 2, 3],\n",
              "       [4, 5, 6]])"
            ]
          },
          "metadata": {},
          "execution_count": 189
        }
      ]
    },
    {
      "cell_type": "markdown",
      "source": [
        "# np.zeros()"
      ],
      "metadata": {
        "id": "lhuUA0XIgB3h"
      }
    },
    {
      "cell_type": "code",
      "source": [
        "arr2_3_5_0 = np.zeros((3,5))"
      ],
      "metadata": {
        "id": "J3IHT4IqgAD_"
      },
      "execution_count": 190,
      "outputs": []
    },
    {
      "cell_type": "code",
      "source": [
        "arr2_3_5_0 #การใส่ค่าใน array ก็เหมือนการใส่ค่าใน list"
      ],
      "metadata": {
        "id": "eNytKXvjgD1b",
        "outputId": "46a726f9-f403-4b94-9b0a-b8f66f54116e",
        "colab": {
          "base_uri": "https://localhost:8080/"
        }
      },
      "execution_count": 191,
      "outputs": [
        {
          "output_type": "execute_result",
          "data": {
            "text/plain": [
              "array([[0., 0., 0., 0., 0.],\n",
              "       [0., 0., 0., 0., 0.],\n",
              "       [0., 0., 0., 0., 0.]])"
            ]
          },
          "metadata": {},
          "execution_count": 191
        }
      ]
    },
    {
      "cell_type": "code",
      "source": [
        "arr2_3_5_0[1,2] = 9 # กำหนดให้ แถวที่ 1 หลักที่ 2 เป็นค่า 9"
      ],
      "metadata": {
        "id": "rrE5XyfOgE8P"
      },
      "execution_count": 192,
      "outputs": []
    },
    {
      "cell_type": "code",
      "source": [
        "arr2_3_5_0"
      ],
      "metadata": {
        "id": "eN8ooeFfgGJ4",
        "outputId": "ca07dd24-3955-4013-9eb8-5770599914a0",
        "colab": {
          "base_uri": "https://localhost:8080/"
        }
      },
      "execution_count": 193,
      "outputs": [
        {
          "output_type": "execute_result",
          "data": {
            "text/plain": [
              "array([[0., 0., 0., 0., 0.],\n",
              "       [0., 0., 9., 0., 0.],\n",
              "       [0., 0., 0., 0., 0.]])"
            ]
          },
          "metadata": {},
          "execution_count": 193
        }
      ]
    },
    {
      "cell_type": "code",
      "source": [
        "arr2_3_5_0[1,2] # ชี้ค่า"
      ],
      "metadata": {
        "id": "82dQlircgHJf",
        "outputId": "fd201b58-d425-44ed-ba35-dbbddadf2bc4",
        "colab": {
          "base_uri": "https://localhost:8080/"
        }
      },
      "execution_count": 194,
      "outputs": [
        {
          "output_type": "execute_result",
          "data": {
            "text/plain": [
              "9.0"
            ]
          },
          "metadata": {},
          "execution_count": 194
        }
      ]
    },
    {
      "cell_type": "code",
      "source": [
        "print(list_A) # เปลี่ยนค่าใน list()\n",
        "list_A[-1] = 'christmas'\n",
        "print(list_A)"
      ],
      "metadata": {
        "id": "WSGRdLI_gIeJ",
        "outputId": "4574d4c7-e799-4875-f3ba-e6757607df1f",
        "colab": {
          "base_uri": "https://localhost:8080/"
        }
      },
      "execution_count": 195,
      "outputs": [
        {
          "output_type": "stream",
          "name": "stdout",
          "text": [
            "[1, 2, 3, 4, 5]\n",
            "[1, 2, 3, 4, 'christmas']\n"
          ]
        }
      ]
    },
    {
      "cell_type": "markdown",
      "source": [
        "## np.ones()"
      ],
      "metadata": {
        "id": "MGZaiY-UhSVo"
      }
    },
    {
      "cell_type": "code",
      "source": [
        "arr2_4_5_1 = np.ones((4,5))"
      ],
      "metadata": {
        "id": "GLwd7uALgJ7x"
      },
      "execution_count": 196,
      "outputs": []
    },
    {
      "cell_type": "code",
      "source": [
        "arr2_4_5_1"
      ],
      "metadata": {
        "id": "GQBL0-mUhVc4",
        "outputId": "cc5df883-f635-43d3-855e-a7f4ab049cce",
        "colab": {
          "base_uri": "https://localhost:8080/"
        }
      },
      "execution_count": 197,
      "outputs": [
        {
          "output_type": "execute_result",
          "data": {
            "text/plain": [
              "array([[1., 1., 1., 1., 1.],\n",
              "       [1., 1., 1., 1., 1.],\n",
              "       [1., 1., 1., 1., 1.],\n",
              "       [1., 1., 1., 1., 1.]])"
            ]
          },
          "metadata": {},
          "execution_count": 197
        }
      ]
    },
    {
      "cell_type": "code",
      "source": [
        "arr2_4_5_200 = 200*np.ones((4,5))"
      ],
      "metadata": {
        "id": "fOUqvcyuhWep"
      },
      "execution_count": 198,
      "outputs": []
    },
    {
      "cell_type": "code",
      "source": [
        "arr2_4_5_200"
      ],
      "metadata": {
        "id": "OuvhWxz1hXnX",
        "outputId": "0ed13e83-ff24-4744-af50-440a602425c0",
        "colab": {
          "base_uri": "https://localhost:8080/"
        }
      },
      "execution_count": 199,
      "outputs": [
        {
          "output_type": "execute_result",
          "data": {
            "text/plain": [
              "array([[200., 200., 200., 200., 200.],\n",
              "       [200., 200., 200., 200., 200.],\n",
              "       [200., 200., 200., 200., 200.],\n",
              "       [200., 200., 200., 200., 200.]])"
            ]
          },
          "metadata": {},
          "execution_count": 199
        }
      ]
    },
    {
      "cell_type": "markdown",
      "source": [
        "## การบวก ลบ matrix  บวกลบตัวที่อยู่ตำแหน่งเดียวกัน"
      ],
      "metadata": {
        "id": "xUvdV6Qlh9Uh"
      }
    },
    {
      "cell_type": "code",
      "source": [
        "arr2_4_5_200 + arr2_3_5_0 # การบวก ลบ matrix shape ต้องเท่ากัน"
      ],
      "metadata": {
        "id": "A3qKzcKqhYfd",
        "outputId": "26f8eba7-a3cf-478c-becd-1e6d860b7dd5",
        "colab": {
          "base_uri": "https://localhost:8080/",
          "height": 166
        }
      },
      "execution_count": 200,
      "outputs": [
        {
          "output_type": "error",
          "ename": "ValueError",
          "evalue": "ignored",
          "traceback": [
            "\u001b[0;31m---------------------------------------------------------------------------\u001b[0m",
            "\u001b[0;31mValueError\u001b[0m                                Traceback (most recent call last)",
            "\u001b[0;32m<ipython-input-200-20644b9f025a>\u001b[0m in \u001b[0;36m<module>\u001b[0;34m()\u001b[0m\n\u001b[0;32m----> 1\u001b[0;31m \u001b[0marr2_4_5_200\u001b[0m \u001b[0;34m+\u001b[0m \u001b[0marr2_3_5_0\u001b[0m \u001b[0;31m# การบวก ลบ matrix shape ต้องเท่ากัน\u001b[0m\u001b[0;34m\u001b[0m\u001b[0;34m\u001b[0m\u001b[0m\n\u001b[0m",
            "\u001b[0;31mValueError\u001b[0m: operands could not be broadcast together with shapes (4,5) (3,5) "
          ]
        }
      ]
    },
    {
      "cell_type": "code",
      "source": [
        "arr2_4_5_200 + arr2_4_5_1"
      ],
      "metadata": {
        "id": "FB2e9xKWiBM4",
        "outputId": "6b842615-c8ec-4fcd-dbf2-5415d1c772a7",
        "colab": {
          "base_uri": "https://localhost:8080/"
        }
      },
      "execution_count": 201,
      "outputs": [
        {
          "output_type": "execute_result",
          "data": {
            "text/plain": [
              "array([[201., 201., 201., 201., 201.],\n",
              "       [201., 201., 201., 201., 201.],\n",
              "       [201., 201., 201., 201., 201.],\n",
              "       [201., 201., 201., 201., 201.]])"
            ]
          },
          "metadata": {},
          "execution_count": 201
        }
      ]
    },
    {
      "cell_type": "markdown",
      "source": [
        "## การคูณ matrix\n",
        "\n",
        " scalar คูณ Matrix (scalar คูณกระจายเข้าไปทุกตัวของ Matrix)\n",
        "\n",
        " Matrix คูณ Matrix (แถวคูณหลัก)"
      ],
      "metadata": {
        "id": "WPDSNZcPiHkq"
      }
    },
    {
      "cell_type": "code",
      "source": [
        "5 * arr_a # Matrix (sclar multiplication)"
      ],
      "metadata": {
        "id": "le83WggtiC2G",
        "outputId": "398f6894-baa0-4917-9261-01186e7da92b",
        "colab": {
          "base_uri": "https://localhost:8080/"
        }
      },
      "execution_count": 202,
      "outputs": [
        {
          "output_type": "execute_result",
          "data": {
            "text/plain": [
              "array([ 5, 10, 15, 20, 25])"
            ]
          },
          "metadata": {},
          "execution_count": 202
        }
      ]
    },
    {
      "cell_type": "markdown",
      "source": [
        "(m, n)  (n,o) = (m,o) (Shape)\n",
        "\n",
        "![image.png](data:image/png;base64,iVBORw0KGgoAAAANSUhEUgAAAYAAAAB3CAYAAAAKJ5eqAAAgAElEQVR4nO2de3hU1bn/v2vPPZMMhEuAYLgUsIBSwetBpB6vPxBr5Vclilg5tlqLNT0/fVpJL9p62pPo0+IjVNReLG05KNqKWhVrldYCthoVEMUcDXIZCCYICZMMM5mZvd7fHzt7z57J3GfPfX2eh4eZ7D17rZn97ne9t7UWIBAIBAKBQCAQCAQCgUAgEAgEAoFAIBAIBIKygRW6AwJBqRLsfYeCvW+C+92Q7A0w1ZwB28h5OX2mAodeJu+nawEAVZPvzro99Tswy/Ahx0w0IuI9qx4Ny/CzhM4oI8TNFAjSJNj7DvV3/BgU9Aw5JtnrUTP9fpgcDYY/WwPHtpP3o+9r7621c1E9vSXjdmSfm07svDGtz1Q3rIT1lAVCb5QJ5kJ3QCAoJZIpTe7vRF/73eCyjySTwzBFSV4P9X64LLKtUG9W12TWUWAWV8yBLB7S8ElZtSkoLsQAIBCkgV5p2uoWwDryMpgt0xAKfgzvvp+D+zuVf74DhrbrdbekpahTQR2gQv3tBAAU8gIAuOwHAMh9u+A/8pR2vn3cEpirpwvrv4wQA4BAkAaSycG47CMKfDYY5lmpHQscepn63a0AAN6737A2fYc3kO/gLwEgbYs9FWIpdS77yHfwYe29rW4BqiatEMq/zJAK3QGBoNSQTA4WHeOXfW7y9z4XPidBqIS8Hjq5fy0NHNtOydoK9bdryh9QEr/J4LKPQv3tMf9x2Ze0TQDw7X8I3N+pfBd7PRyTvp3KxwQlhvAABIIMCfW300DXswh63oM+LyDZ6yE5Jsb9nL/3BSW0cuSphLkCLvvI897XtPf2cUtgrpqQsE+BQy9T71sL4x5nFhdkn5sSJalD/e3k2X2b9r562j0wMp8hKB7EACAQZACXfTEVLbO4UDP9/oQKU+7brb1OdF60FW5v+A9Q4LOE/ZLZ8YTHUwkf+Q/9Tnttq1sg4v5ljBgABIIMkEwO1t/eTIGef0b8nYIeBI5vHXL+wLHtFOpV/h7oeUP7e397MwEAswyDvf4GrXxUn08Awla47HMnDOE4xi9lof52UhO60Zgt08AcrpStf3v9DdDnOQTlhRjZBYIs4LKP5L49GPj0j9APBjUzfh4xaarn7asomfWt1vVHK2FA8QC0Nge9AvUz1uoLDavN9+5tpYHulwEo1r9zykqhI8oY4QEIBFmgD+HolWew982I86om342BI+vBgydAcr8WijHXzIBkVmbh2sZeA6AFgc+2DGlHr/T1BHr+iWD/B5Hnyj5i/iC4dELpIx+mHWPO+NY/eT3U895V2nth/Zc/YgAQCAzCNuZqqANAqH935DHdkg360FH1jFW6QaQFAJRYv+yB7DsA2X94SDt6T0Ky18NWdyWA5wEos5RP7GiMG+v3vP9Ncp3+SMxBwN/7Qri/dQtyMptZUFyIAUAgSAN1LR7bqKF18fraf1OCKiBmGRb3GJA4MayfiWyumQFFmW/QjlP/0YSJXtl/OG7lkf/Ik9pr68jLIKz/8kcMAAJBGvh7nwMFPfAfeQreva1kG3M1JMdEhI68DnWRNgCw2GbHvYZtzNWg4AmYamYZXl5pPWUBC/a+Q+ps3mjMVRNitqlfZ0iy14tF3yoEMQAYhDo7NHTyILj/ACjYC5I9oOAJ8FAveFCJx5LcH/cazFQNAJAsw7S4sGRvALMMh4lGgBw1MFdNALOOEnXZBcI2bhlCfYqiHOh+WQv56DHXzEiYlM2mrFIfz49HJso7eFQf/rkSeq9CUL4IJZIBof524r37EQp9Au53I+Q7EDdJlyuYxQWTfTwk83BI9gaYzZ+DNHwSJMdEMTjkGP3SDNFYa+fC2dCcMNmaLWpFkZFVOuo1mcWFYXM2ChmqEMRNTgJ5PRTw74bctwuh/t0I9X1Y6C4lRbLXw+yYCFPNLJidn4epZqZ4oA1G9rkpcHwruP8gKHgib/sB6Nu2D7/SsIHGd3gDDXS/AMeE2/PyHQTFgbjRUagKP9S7FUHPe3m37HOFZK+HxfUFWGyzYRp5mqjwKDBqyBAASPaCQl5w2Q/m64s4Tz+zV79BCzlqIJnsYGYnmMkJACI0KEgbISxQQjrBE+8i2LM1KwtftbyZZRgk+wQtbm+yjdQeUokPA9ktEZ/T12xHKwOZHY/IJxgVbpLs9bDWXgBTzRmwDD9TKA4D4bKPuO8A5IFjWj6I+91aLijXRoVkr9fySHpZZNWjIdnqxOAv0KhYQVC3whv47OW0l9dlFhcs1adpbn8hErPk9ZBMnTAqF2GtnQtTzSxYR8wXCiINZJ+b5GMfFDQflAn6MKFknwhz1QRx3yuQirrhof52Cny2JW2lb66ZAXP1LE3ZF/ODolqfvHc/ggM7IfsOpO3VmGtmwFI739AYczmgV/alkg9KB9WwEbmjyqHsby55PeTvfQED3S+kbJmpCt8y/LyyeAjU9WqCvW+mrbjUtWbM4y4s+d8hXcjroWDPGwgO7ESg5w1DN2JhFlfMsl91khgzuYb2Rw63r5YXAxiyvISRqMaAZdiZYlXQMqRsb6i6VnusOu1oVMvHWn0hLLXnl73Vqx8QAj3bUhoYmcUF26gFsI35UlF7QNmiVtgYlQ9S53FI9olaLiiX4UI1uUyyNyIHoV9aItOBgllcsNaeD/Pw+SJvVCaU3Q0cOLadBo6sT/rwCmEOk67Ss9bOhWX0lWVTLqiGBlMdDPUUQz4oXfRhQjWcle7AoD4/1pGXiVnDJUzZ3LhUFb+qvCpd6ccjncFAXYjMNnZxyf2WmYQGo5W91T6rrLxFdYJjcGBnWiXQqhyIAoLSo+RvViqKXxVQkdRMD9nnpoGuPydNmqvhIcfoZUX/+wZ736HotfsToc8HVZqlqya9A/2vI9j/QUoeQrl5h+VOyd6kYO875Dv064SKXwijMXDZR8Hed5GKh2Uft6To8gRc9lHoyOs4efT3KVm1auK7EvJB6ZBO6TSzuGAfd50wuoqckrsxss9NvgNrE1pw1tq5sJ9yk6hayAGyz03+zv9Jmly3j1tScI+AvB7yHV2fksKq5GqnTAj2vkOBY39NqcjCVrcgYrtLQfFQMjeEyz7yu38L/5Gn4p4jBC1/qDF0/5En4ypX1QrMd44g1UFKhAazR/Wu/L3PJfUOxfNZfJTEjVA34YinaKy1c+GYuEIIVgHgso8GPt2UdCBwjl1h2L61ifqSzEgAFEVkG3O18BANJtXS61Se18ChlynQ/7q2fEbV6K/mXH4qkaL+QWWfm7x7/zuuZWGumYGqSd8WD3IRkMpAYK6ZAccpX89JMtV3eAOl4o0Iaz/3qLKQrMIqkUcQveS2tXYuqqe3iPtmMEX5g6oCFG/NdcleL5atLVJSGQhsdQtQNXaFIYo42PsOeff9PK6iKVQYSqAQOPQyJQsPxZKHUH87eXbfFnFe7ReeF4O3wRTdjxnqb6f+j++L+0A7JtwqHuYSIFk4JtuwUKrXF0nd4iBZuXasgbp3x1LS6wHHhFvhGL9U3EsDKZofM9kDLeL8pUmyhKy5ZgacU76X1n1NZCQIi7+4STYQ6L376DAQs7hQe/bz4p4aSFH8mMke6HwkEAW5JdTfTif3PxT3wU/Vuku0HaORoSVBbhk4tp18Bx+O6+mrpdzRYSDhBRhLwX/IZA+0Y9K3hSVXRmS6ny6XfXTy4/tizv+Q7PVwTr6r4mbqlgPJkvfmmhkRRoPYs9hYCvYjJqrwEQ90eZNoMh+zuFA99d6Iey/73NTXfndMa9E+bgnsDf8hFEIJk2r5rop93BJUTVoh7rcBFORHHDi2nU7uuz/mqC+s/soh0fwO1dWXfW7yfHD7kHOYxYWqyXeLSrASQ50roF+aWt0bQbIMS3lVUtesR0X5twHk/Qc8uX8txRrpxQNdmSTyBM01M2IqhEwSx4LiQPa56cTOG7O+jmSvh+sLvxGGYpZI+WyMyz4K9e8e8ndr7VwMn7FeKP8KxORoYK7TH2H2cUuGHAv1fThE+dvqFqB6xiqh/EsUk6OBmWtmZH0d7u+Eb/9DBvSossnbQ6TuVMQHuqGfuGOrWwDz8PmQTHalQ2YnTKxeVHJUIMHed6i/48dxQwAi9lseBA69TP3uVkOuFasqSL8rGgBQyKsdY2an8n+Od2YrFXL+5WWfm/hAN7jsDzfq64O/9zlYaudDsk+M+1mTbSQkx8SKv0mVAHk9xKUT4APdiLfM97DZfxCWfxmgbklqtkwD2S1g/iBk6oQ8cAxy3y5wvzvl/RoAwHnqT2EZfiZUA1Ova5IhmexgZmfF6pmcfWHyeigU/DitmxEPMRCUJ7LPTeretdEEj74QoQRsdQtgHXkZJFudsNwqAHUPilDvVgR63kiYGHae+lND2qxEPZOTLxrqb6dYD3W2mKsmCAuwDJB9bgqdPJj8vL5d8B95CuaaGbCNWxZxrBIf1kom1N9OwRPvDllgzjHh1oRRhEyoJD1j6JdUXTsjrP54mGwjRflXiZKq4tfD/QeShgmFPFQW6soBZsdEWEZfmZM2KkWukn5Br9dLm3d+iiMnBjBumC3imNOmFBGNqDJhhNOMCdX7ctPLKCSTvWgniW1+ex95BziOnBhIeN5Xzh6L+roRRfkd0qEY5EMy2WGqmVkS3kClyUcuyFWEIZpSkqtMMSc74ZZ1e/Dk+3LSC42zncQnP7QlPc8IuOxHqL+dinGEbt50AO8dtyc97y97evPQm9xTDPLBZT9477sgr4eKvXqs0uQjHTa/vY9aXu6ExxeEy2GByx55K10OCwDgnj/7cO/lue8Pl/1A357cN5QhSx9uo0M9AXh8wbjnuBwWNF00FtfMmxLzuUg6ALy1rw9AFewsAADwkzXmeaOdeZ1SAHngWFEOAqfUWvHe8fjH7SwAP1mx5ZMQOruPU6lbecUkHwH/7qIfBCpNPtIhPDia4pyhGBqfc/bh3suFsXmoJ4Bth02I/3spdG46EPdY0gHAF1L+r7WGcOG0mohjHl8QHj/B4wtiZr0TQCBpp41EHjgG2eemYkrYnDt5GFyOkxjljP3TvvT+SXSejK8oS4148qFaJfmWj4B/N7jso2J12ytNPlKFyz5quEup+hpnO4megDnub1A/PD/KX6UY9QygGBM4HNv7trMAaq0hHBmoQudJM7xeLzmdziH9TzoAqBwZqMLPrp0SEZckr4cC/t0ALMi38lfhA90FaTce93zltLhC4vV66U8734SfrLCzAIY58yvIuSRaPiITvvmVD7mI3fZKlY9k+PwcPQGz5kn+6eaGiOO9vfqYvxlA4hyK0YROHiw6w+LbF43BjefJGFFlgtUSVuWBoGKV/d9fdiS9RsoDAAB4fZHVPaHgx+l8PCdw2V+Uo3M8egLhn9xhz2/YLNeo8qHWcBeKUpMJPeUsH4lQv6ufrOgJAF+cUQfVYlWMifwq/FhwX/xQSiE4b+aEhMZET2A/AMU7jydLaQ0AejIp6YtG2t8BcrlAI+qyuk62/aAuN6GvFzR5ak4z/ie8A5pbW2sNlW11gZEPirTjLbB32kBnnQM+59yUP2eUxUYdu4l2bAW8HuC0c8Fmnp2zZUoqRT7ioYQslO9/whtW+Nk+30YhDxwrOi8gHnpZAhBXljIeADINvbDj3ZCeeRrsr69C6lGuwa12sEuuQeimr2Q8GGRi8fGn1xI99iPgCsXdZADkmy8g6XuPgE2dZfhNjvagypFwWDB7TL9+GKanNgAA+F9fBa37PchRk+RTYbIZiKjLTbz5eqBxVkStNLfawde1krR8pZCPPJCJoSnt7wB79S/KazYK8tgE+ZT68aDpM1KWq0xlirweopfWA/vaAc9xYEwD8G+XQTrn4pwMJnpZciTQ8kkHAEeccFsmk72kHW9B+mEzpEDkZ6WAH9i8HqZ/vQL5kccyGgTUhZ9ShTctIta6YshECGnXNvAbzwF17KZcDAIqiW5KKREtHzLF3uIvXaQdb2nKHwCknm7IPh+QxgCQqcVGXW7iN5ylGSgR/Qr4gTUrwR9oIum7q4V85Jh0n2sAkO7+TsS9S/ZTykuWQv767SldO5P5B7xtC/Hr50A6vDfywLoW8B8sI/z4VwXz9pIGGdUqDz2yz02ZNGb6+zua8udWO2jeItC8ReC1isKXerphXvPrTC6d1o3hT68ltv1F5XVtHaixCXRHK/gZFyj9CPhBq1dm1I9KI1o+jJigw453Q2ptyfo6AECBz9L/zE9vC3un46eA7mgFPboFtLwZ3Dq4au3G1eBtWzJ6DgSJ0YcuMpKn0fVpnU7j0jzf60n5vlPHbqKmKyKUvypDAMA2rwee+W1a7adCv67motoWX82nZWc4HUrHMxmVASB001dg9vRAPnsG6OJLNbeL+fqAa69WFO+etoyuDSDlGnDavEGz/FnLk5obRl1uUsNB2fQjHv2FKZQqOUwtP49pfWdCuqFK6thNaJylfLa2DtKv/g42Jhxa5K9sJDQ3Kuc+co8hfVQR8qGgVgJlGk4M/eJhSPs7gJ6hEy5M7+4D27hae0/zFoEvWpzW9bl0IuVzad39mtFLjU1gN30HpjENjD+9lljrCuXvz8TeIzsfZORo6tfXTutzI+oQvPd7sQ86XUAguxhoyjfm4EfK+VY7pJlnh/9ePUz5W8CvJP1ySKJRuVQxYqkH6cVNkHZtA6BY33DWQPpoZ8bXSzdUSevuDxsH3/hRhPIHAOnyRiZfNYWkw3sh7doG6nJT9DlGUI7ykQx9BdQwpw1cSjBjLgl80lRg0tC/S7/5nXZ/+amzIX/3jrSvnY4BTO/9MyxPN31Hkyd2xTLwVXcquuaoMWHTTEgoZVz2aa6OOiob2vj+DkgvboJpxe1hi2/CqYa3M4TBNqSAH9SyAtTlJupyE7WsCOcnZpyd4AICYKh8MF9fVteT9ndAeuQX4es3fQtwVGd1TSCyn8mg95TJSNxqB7tiWcxz2Bfmhs8/WPhS6HLA5+c5b0N6cZNmTPDaOsj33ZtWUYFKpgYw+sLLe9D2zWFdk2bIKhXUuQDJSOoBRI/KQGYJYD3SjrcgtbYMcfN5bR347bdkfN1UR2Z23R3AoJXJNq8Hf+2PkAL+sGVgtYN98z7g8Ysz7kuloJePbGC+Pkg/vk97KOQlS8HnnAtpw5+yv7Y//lopQzh6WPl/9Pj45Z6uEeHXPUez6JkgEZmGmmPBfH2RxsVXv5p1+XlK7X5hLjAY/+c3ngP+QBPBcxx0701hz2DOF4EnMvdysyGhB5CzUbnzcMwYL112qeK65Rjp8kZGC8PWXXRVEjvnEuDMudEfE0RhpHyYH12vJcr4+CngN3zVsGunGhqkLjdpsjBqXPwTHU4DeiWIR6KJS5ki/c/vwwUop85OO+6vJx0DmDWvVUKZUPQM27gabPP6cF5g3iLgrvsz7ksqqIvoxSJl883Im0IXX4oQANPbH4L2tGmDgempDZDYKAS/1pjRdZkptQeTt20hdlvYutdXIQEA2/4i6P9dU/QLixUTtdZQRu40oLjmbPN67T3NOw9sy6uKhfTZEe3v7J/bgbnzcma50ahR4bJgX3/8E7vc4de1o3PSl0oj1sSlUH+7IVVW7Hg32LPPaO/5127K6nrq/uUp44z/XNCeNrB3U9/+0mgSavR4s8nS/gGiIEcN+KLFCN77PYQ2boK8ZGn42KZfZh1LTti210PUdEX4fWMTpOc6wP5yALRybbjMb/uLoKfX5qwf5UC0fGRCtGsOKIaA+aGfwfzQzyLK58wP/QyW6xZD2vFWVm3GQzI5mGoMJEzMeXq0l0wMAIYQa+JSqgZdMsyb/hZp/acxozxbqPn6cN7BaldKilfqvIKeblDTFUr1WY5ItFx0wgEg3mwyZjbWBZa/fjv4qbOVDgX8YO1DNwQ3jCMHIoRB+u5qxpwuJpkcTLp2BWOLbw2f++5WQ5uu1unK/oHcJ71yTaqzDZMyenx659eOSH5Opgwm5KSe7rj13hElwuOM246w3OSjWKBXntReZ2v9A6nrP+rYHZ5vZLVDevZjSMtXKnpm0/sRoSF65ldZ90uPfnG4RCQ8K95kAmVkTn+ChrTjLZgODSD4pflDjrHR44Esyv0AgFlHJT2HdmwNJ1/OXzg0+XLR1cBgnTCpCUGDKLc671QnmySCHDWQ1z4M3v4h0Dn095b+uEnzAqixCfKZk9POE0l8WMrnsvMXanJIL60fclwfPuRnXACTgSHCcpOPdIglS+nct3hIO96KmNRnhPWfqmdCn+wJ65pLrokoKZZMDsafXktQ5wK0F2bxxIQDQLxSImYdBaS5Pgc73g3ph81gAT8s7y6KmA/AjneD2l7TfiyaGKOANwmSyZ7adOphI7WXtCOGhf9BOLzAppwOwLjsfHWZLfEeLR+SyZ5RhRg5akBzzgXmDD0m/f1fWhVFaPFFmS0TYo+fBIuGLVwKrFNmIdOqOyPq/KnLTfyWfw8/1NfdATy+Le3+xKPc5CMdYuka5nSxgWPbswqNSL/5nfaaX5N54ldPKoYmAKBTNy9mTEP883JMIm8yZcddn0mWTI6sbgzb/iLMjW1g/3Y54OkBtb0WDsuccUFGD3mqbhk743zttbRrm7IWxxe/pCTzPngLtH5VOBF4xvkAhlqBgqG4HBZItjrwIlm5USVlw2AQNnUW402LiG1/EVLAD371NPCmRQQA+vWBeG0d2CVX5ajXlY1e15hsIzNeXkTa3xEZf7/4UkP6l7I8nRb2NmjDgxHri5HXQ9R8vXaczZkPIDfGRMZLQRw/GX+v13RvDI2oA//mtyA99DMAgxU3g5UfWv19bR3k5rtSvmZEf1hqkynYmAbG17USW6Os9cM2r9f6oe8LzVsE6doVhlYAqUtpALHXWCo1ouUjE88wGaw6uzBAJvkq9v1HwW/5d0iH9yqGyWAcV5PT8VMgrXoWzOAFvMpNPtIhnq7JNNwMQFsRFFBKuzOtUtNjso1MfpLa5syzFVlR5ahxFuSrphBGjQP/8tQIY0JauBSAMetfRZPIA0g5cBu9QbPkSD/5xRctRuj+B7WEr/Z3q11ZkW/d7zOy/iWTPa012qXlK5k+Ex/Rl9o60B2tYC1PpN2PdElnhmomXPisTHiMCI8RHeyjnLblsjNIJgfLtkIsGvmqS5UJghl6hqkaBnrYmAYmPbED1NiklQgDgwvDLVymrA+Uw5VitfZyLB/FhFenpPS6JptNfdjO8M5w8k1LMr1MBOnoPeZ0MWnVsxEypC4hEuFJtjyZF3mKRUIPwJto5Bis003XPeNzzgX/xblgvj6wri5DNoQxW6al/RnVuqcuN6nT+dmEaWCjRiku3nLjVwMd5rRpm36XA7Hkw+gwEJ9zLvjGTRl9Nl3DQI/+c9TlJlQPUxK+z+8FfpKbsGC5yUemRE9cMldNyGhTGL7wUsDbB37NYkMmmJpsI9NetplNncW47CN67XngH38GdSq7dLH6ScAZ50O6YlnONhhKhYxyACqSY2LG8Tly1IAmGeOSZfMD5mIhr1ToCZjzsv5JvlDlw+RoyDpxZxSSzZgJY4WQkXKTj2wwORpYsPcdSrfAgC9anNWM32gyiXoA8XIG26DkF1dk1ad4pBpOTDgAHDmReB9OyeRgRmwNmQ2Z3hRB9sSTj0wtNiORTPaswgflym8+5LT1SPLzErHuYsnw3zWZrjFbpiEgG7PTXCaYqyaU3Badem8y3sZIKXsAo5yxTzU5GjIKBRmB1T7L8EScIDP08pGpxWYkppqZBWu7mNl6BFj3cXE/MrF0DXO6CmZsmmwjS86YUBfuBBIv2GjI4j7m6umGJ/+Stlk1oaCxs0wweoGrYqaQCrgUrTWgsuQjmp4U8t0mRwNLpwrHCCSTHebq6SUnS9HECycatvOoZfhZefMEzFUTSm5EzhVer5eO8aqYxy5/IXzTD3uBeJVAE2qY4b+lZHIwIzeIT5VStNbyyX3nMHwjy7F57jeM6UsmmKun503PSCZ72XuSCQeAVEbliItVT8+5m2YZfmZJWndAbpbXvv1NB9bF3ZMkbFHOfc7wppPKR77ddpNtZElba/lI+uZisDeaalvi4/nQM6UuS6mSsgeQ7KaomBwNjLweCgU/znrjmIjr2kZCckwsWeVf7sSTD1Uecu0JCK+wssiVngHKT5YSLeVvWAhIjxqbN2KUVt0wofhjM38csM8T23J8vSt806e7OMY4Yl/j9Vx0TAdzuhiXfST37TH8YQXK74EVpIaRegYoL6s/1aXaczIAqKgPpexzE8nelOcMSCY7JFsdJD6s5BK9iTjhDZe6GbXBztdmxC/Ju/BZmdRB4JUrpYK6/+oAbqTrXm5eYS7koxLIVM8AYV3DrKPKRo5iEe+75XQAUNFbZ+T1kLpFn7rnp7q8qsSHgeyWsr4RsTbYqST0Dysf6M7IIyg3xa8n1/KxfAunrMtAv2G8IeEPZL8Wtl7PyD43AWEdQyGvti6Uqm/KWemnuldHXgYAPeVk0WdDVhuolAHqw8plH1HgM5DsBYW8QwYEtbyYmZ0wsfqKkZ9Kl49sESHB1BBilkf0o7JAoVwtsEzIh3zMHwf8qyu7aqN2g/oiKDxFMQBQl5voH38GALACLY7E27YQeo5CurwxZ21X8o5PmcDbthA+eAvS8pVFNUhELCA482zD5DUf8pEoZyQoDNSxm2jzBtAbm5W9qCecCjZnPtiSFRmvQ5Xqbn0FHwDUXZa0bf+8nry2z2Uf4d5boG3z17aFpHMuFg9JAaEuN/Hm67V7ot9Io5DwVzYS/bYFuKIB+s7wpkXEvv9owRYWFAyFOnYTrV4J6j8Rd08J6j8BtnCp4ft+pANf00xonAWG8H4T6OkGdm0D3/Bgxvoo3m6O0RR8AODN12vKHwDQ8X5+O3DvLcqmMBjc6GPm2XlpNtM9dNNhsothskudrFUauom3bYkwCACAeo4WsEcKfF0rsebGmL8i2/4i+A1nGTpQ5UM+yhladz/Y9hcTSj0DwEVHpZ8AAAmeSURBVA9+lK8uDYE6dhMaZ2nvudUOTJoO7G+HFPArO9I1XwfyeihXUZGCShlf00zSLuO2QUu7/R8sI035W+1gP/xVTsNPqY7KRrHuYomp/0phBih1uYmarog0CACw2tEF6pECb9ui7SDHrXbQHa2gR7eA7mhVHlooO9zxH96Y1SYu+ZaPska39Wss1E2GWMuTeerQUGjyVNC8ReCnzgatXAvp1W6YntjJpFe7QfMWAVDkiva8nVU7sZbyVymYB8DbtpDq4hekfd22kOquPPkM/SS6KRVLX294b2irXXtdcJ57XHvJfvy7iDyRPoQpfbQT9NrzhjQp5MM4aHkzpDtaop7tbuXf44XTQREFEE+sgLo3AHO6GF/XSupWpMihB1yQAYC8HuLXzwnvv7twmRaGyUv7HbuJ33iO4gJa7XlX/oLYsKmzGG/boljQj9wDqN5hzfAC9gqgve9rsmKKKhJgYxoYf3otoXVwY4+d2wvQw9LHbrUCSLwnQFp86g6/HtugFRSg7wQwtkFJshZBXikatSCGHvuRph9ZEm8mFon2c9dTmAGgZUU46TtvEfDlmyM2Zs95+6tXatYlu+QaYH87+NNrCZOmK9tC5iiZp78p0XssCxTUgVi++YKi2FUMALB/sPDR6QIw1Cthc+aH3xzaO+R4qgj5MBCfV3tJq+6M6U3yNc001DMoDHxdK9Ezv9IKDDTjeN4iSFnqo0SylPccAH9lY2Tc/fuP5rV98nqI2l7T3rPN68FaVyj/brsY/Opp4GuaKRcbcifaY1lQxMxQCgOknm4lcRcF7dgafuOqzbgZIR8G4jmuvYwXSmTrWpQqnAJDXW5ia1YOyX3x8VOAB/+Y0TVTlaW8egD60AsAsDtXKS606vbnow8vrU8YW5YCfmBdCwouFYIwccr48gWbfqYWjuK3XQL+QBPhoquV2OwLvwdr1e3rOqahQL0U6KHO/ZGlumdcAHbdHUDtaOBvz4I2/RJSwA/a8GBOq2yA+NsxqrAxDYyvayX6y5NaBRAASIf3gu69JVfdApDHAUBLlqlJvto6sGEjwV/ZSPjXX8Pnde5XangnT83NLFFdbJBb7WCLbwVmzwP+dydox1aoVUlsXUvR1J8LcoNqzQ8pMz1zboTssdt/Ar7jH5A+2gmppxvYuFr5F4vPz85dhwWp4+vXXtLyZpjuaGF4PFxxyJsWEba/qAwC2zcb0iRv20K06s5wyBCDBuW5DshXTSFp1bNx8w7qZEfyeoieXgt67EeQAn6wzevBX9lI2UxQLYoqIHpqbYSLI/V0A82NQ86Tdm0DGmcBg2VQhtMVHgDY6pcGY87hh1m++QKtNJU+2ZObPkBUeRQS6nITv+EsqDXY0U8WP+OCiPfM6WLU5Sb66W1gamVGDLjVDmneQkP6KOQjO9idq8AfuQfsi1fGnkl+5nxoVTad+4xp9G/PQvpoZ8xD0uG9oM0bkl5C9UT4ulbCYJViLgsL8hcCGlt8rnGs+nK2cGm4+uR/Y9/MTDlywsAqB0Hm9PUCiWac66xHFbUwgDp2E+3Yqnze6QJt3hD2Gi+5Jqt5JEI+jEOr6ns8zjyj+snh130nDGmT3fQdUF090N2p/MHhDB/8/GyweQuBO1oiPhM3ynDaueHXGRQWpCpLeRsApGtXMOrYTdRzVHGR9A9gdyfYoEutxurYvIXAapfxHdHFaJNa+EU4aFUiZDfWGmZTZykW/a43wn8cNAZY7WiYEoT99A8rf3qt5i1yqx3S8ruBn+Svmk2QBXrjzqCwXbrVg/yBJkLjLCXqsOalSONBFxbHKVMM6V8s8poEjhf/4m1bSI2psvpJOV2QLUKpDy5Ap4c2bwiHBCZNz1k3BIUlm1JfLvsIf3gItOrOcEHD4luLsq68UlHr6WMtLqmGALV797kCbfw+aNlLu7aBf/2LStinfjKwcztow4NhPXTR1dCHqdNllDO+mq+4BUfYFcvAa+uU15vXK/W3XW6ijt3EH2gKW3SnzgbOnJuzfiS6KZUMf6CJ5OtnEz4MT3+n/zNRsZYKDHW5iT+9lmjx6WBrwnNJaN4i4K77DW2r0uTDiA1h9PD//BJY6wrwL0+FvsqQOnYT/88vKTlIKPeuUAM3a9ItJfLRTrA1K8GaG8E2rg7LVmNTTiepFoWUsQnT8teW0xUxc5OtWQk12aL+ytxqB7tzlVirPs+oy4NE/+hq5U2uy/US9u2VjRQ9SUerIrvrfiErBqLMCs4ONno8oFZt3XYx5EvrlEGgcZZm9XKrHdL3HwVWFybUq8585/91y9A5AFY72Dd+lPOl0ItjABjTwPgPlhH96xWwL9+c8ziqdO0Kxl/ZSHTvTUPmBPDxU5CoXEuQQ86cC1reDHz8Hqg/nJhj1cOA+YsgFXA3MPrF9yIV/yXXQFp+tyIn383cPRfkBtbyBKj5eq1qS7X4VbTnvMBLeKvWPW/bQlr56KTpkHK4IoGeohgAAED6yXrly76an8WZpMsbGXk9RHve1up22Zz5YJOngglrriAktKJXxy+/zAfsW/8N+sefgTPOh6TGlUXCt2hhThfjso/omd8C+9pBO/6h/H3K6cDU0yFdu6Kothc1OszTk+JCBgkHAKPjcsVGvgUg1ZtSKpS7fOgJFyash7pqo9GUm3wUmtgGxWD1z/KV+e1MAam2xT9WcUngYiHRTREIhHwI8kFCD0C/ROv+4yG8uedghIlitZhRbQ3vPzlnWn3RuFSF4I/b9w4x4Zy6nZ3+8OZn2msjEl2FRshHelSafAiKg0SylHAAmDnWDqAPAPDk+zKefL8z7rkXjE9t/elyZvXfPsW2w6aUzlV+29JGyEd6VJp8pIPemHj1w140rdsRNx42qsaKe75yWkUbE0sfbqNDPYEhSz2rS4g88+5RAIoM1SZIrSUcAM6fVovPOQ/gE29V0g55fMGk55Q7nb0DAJL/Vp9znsTC2WNz36EcI+QjPSpNPtLhnIlVUI2JbYdN2HY4/lIGF4w/madeFS97Or1473gsI0E1tMLHzp1UHfc6CQeA+roR7M09B+m/XjqEQz2JE36n1Fph7Mo5pccVp9fiM28orrLz+Amn1Frxncunw+l0lrwFI+QjPSpNPtJh4dmT2dKH2+jJ95N7isKYAI56U1vv/1vn2XDezAnxlzYxrEcCgUCQJZvf3kcd3b6Yx3p8hFoHwyjrSVx/6dkVrbve3HOQjp+U4R3gWh4pehOYhlpLQuUvEAgEAoFAIBAIBAKBQCAQCAQCgUAgEAgEAoFAIBAIBAKBQCAQCAQCgaC0+P/GfaIKRvTviwAAAABJRU5ErkJggg==)"
      ],
      "metadata": {
        "id": "Ube3GEiaidUK"
      }
    },
    {
      "cell_type": "code",
      "source": [
        "mat_a = np.array([[2,3,5],[4,6,7]])\n",
        "mat_b = np.array([[1,2,5],[2,4,-7]])\n",
        "mat_c = np.array([[2,3],[4,6],[7,9]])"
      ],
      "metadata": {
        "id": "N4yef_KKiVHd"
      },
      "execution_count": 203,
      "outputs": []
    },
    {
      "cell_type": "code",
      "source": [
        "mat_a"
      ],
      "metadata": {
        "id": "1_bwrYU2ihBE",
        "outputId": "eb34602d-465e-4565-fe2b-51b65eeadaf6",
        "colab": {
          "base_uri": "https://localhost:8080/"
        }
      },
      "execution_count": 204,
      "outputs": [
        {
          "output_type": "execute_result",
          "data": {
            "text/plain": [
              "array([[2, 3, 5],\n",
              "       [4, 6, 7]])"
            ]
          },
          "metadata": {},
          "execution_count": 204
        }
      ]
    },
    {
      "cell_type": "code",
      "source": [
        "mat_b"
      ],
      "metadata": {
        "id": "twlNBJb8ih4Y",
        "outputId": "6b56889c-d4ee-4622-b1a9-074dd2807188",
        "colab": {
          "base_uri": "https://localhost:8080/"
        }
      },
      "execution_count": 205,
      "outputs": [
        {
          "output_type": "execute_result",
          "data": {
            "text/plain": [
              "array([[ 1,  2,  5],\n",
              "       [ 2,  4, -7]])"
            ]
          },
          "metadata": {},
          "execution_count": 205
        }
      ]
    },
    {
      "cell_type": "code",
      "source": [
        "mat_c"
      ],
      "metadata": {
        "id": "CcNAMQm1ii9Y",
        "outputId": "575f0b65-68b0-4ebf-f9d5-8885b0a6cc9b",
        "colab": {
          "base_uri": "https://localhost:8080/"
        }
      },
      "execution_count": 206,
      "outputs": [
        {
          "output_type": "execute_result",
          "data": {
            "text/plain": [
              "array([[2, 3],\n",
              "       [4, 6],\n",
              "       [7, 9]])"
            ]
          },
          "metadata": {},
          "execution_count": 206
        }
      ]
    },
    {
      "cell_type": "code",
      "source": [
        "np.dot(mat_a,mat_c)"
      ],
      "metadata": {
        "id": "jdp_Irg1ikHP",
        "outputId": "2a683e14-2ef9-4ca2-bb41-21f05cc2eb7b",
        "colab": {
          "base_uri": "https://localhost:8080/"
        }
      },
      "execution_count": 207,
      "outputs": [
        {
          "output_type": "execute_result",
          "data": {
            "text/plain": [
              "array([[ 51,  69],\n",
              "       [ 81, 111]])"
            ]
          },
          "metadata": {},
          "execution_count": 207
        }
      ]
    },
    {
      "cell_type": "code",
      "source": [
        "np.dot(mat_b,mat_c)"
      ],
      "metadata": {
        "id": "ArS49WTyjU3T",
        "outputId": "56b4f52b-8ebd-4c76-c8f1-26bfa7d1be1f",
        "colab": {
          "base_uri": "https://localhost:8080/"
        }
      },
      "execution_count": 208,
      "outputs": [
        {
          "output_type": "execute_result",
          "data": {
            "text/plain": [
              "array([[ 45,  60],\n",
              "       [-29, -33]])"
            ]
          },
          "metadata": {},
          "execution_count": 208
        }
      ]
    },
    {
      "cell_type": "code",
      "source": [
        "np.dot(mat_c,mat_a)"
      ],
      "metadata": {
        "id": "8hLqCWNdjVxu",
        "outputId": "7483f1d0-0e98-4ff6-b18a-5dd76408e5d8",
        "colab": {
          "base_uri": "https://localhost:8080/"
        }
      },
      "execution_count": 209,
      "outputs": [
        {
          "output_type": "execute_result",
          "data": {
            "text/plain": [
              "array([[16, 24, 31],\n",
              "       [32, 48, 62],\n",
              "       [50, 75, 98]])"
            ]
          },
          "metadata": {},
          "execution_count": 209
        }
      ]
    },
    {
      "cell_type": "code",
      "source": [
        "np.dot(mat_c,mat_b)"
      ],
      "metadata": {
        "id": "Mo7oqJmfjX_E",
        "outputId": "c937e295-06b4-403f-e2ce-4687f7ae4154",
        "colab": {
          "base_uri": "https://localhost:8080/"
        }
      },
      "execution_count": 210,
      "outputs": [
        {
          "output_type": "execute_result",
          "data": {
            "text/plain": [
              "array([[  8,  16, -11],\n",
              "       [ 16,  32, -22],\n",
              "       [ 25,  50, -28]])"
            ]
          },
          "metadata": {},
          "execution_count": 210
        }
      ]
    },
    {
      "cell_type": "code",
      "source": [
        "mat_a * mat_b # คูณตัวตำแหน่งเดียวกัน"
      ],
      "metadata": {
        "id": "Vk1Z9nnelfbq",
        "outputId": "328ae402-d188-40bc-f10d-9c8b6cc0d628",
        "colab": {
          "base_uri": "https://localhost:8080/"
        }
      },
      "execution_count": 211,
      "outputs": [
        {
          "output_type": "execute_result",
          "data": {
            "text/plain": [
              "array([[  2,   6,  25],\n",
              "       [  8,  24, -49]])"
            ]
          },
          "metadata": {},
          "execution_count": 211
        }
      ]
    },
    {
      "cell_type": "markdown",
      "source": [
        "## Matrix Slicing"
      ],
      "metadata": {
        "id": "5HW81OzAliJf"
      }
    },
    {
      "cell_type": "code",
      "source": [
        "mat_X = np.dot(mat_c,mat_b)\n",
        "print(mat_X)"
      ],
      "metadata": {
        "id": "AuN0gkNPlgs1",
        "outputId": "226de588-dda7-4e82-98e2-6bb07e489fef",
        "colab": {
          "base_uri": "https://localhost:8080/"
        }
      },
      "execution_count": 212,
      "outputs": [
        {
          "output_type": "stream",
          "name": "stdout",
          "text": [
            "[[  8  16 -11]\n",
            " [ 16  32 -22]\n",
            " [ 25  50 -28]]\n"
          ]
        }
      ]
    },
    {
      "cell_type": "code",
      "source": [
        "mat_X[:2,:2]"
      ],
      "metadata": {
        "id": "JQUOPsQXlkhI",
        "outputId": "b9c24bce-bd22-4344-a177-06e55414b4d1",
        "colab": {
          "base_uri": "https://localhost:8080/"
        }
      },
      "execution_count": 213,
      "outputs": [
        {
          "output_type": "execute_result",
          "data": {
            "text/plain": [
              "array([[ 8, 16],\n",
              "       [16, 32]])"
            ]
          },
          "metadata": {},
          "execution_count": 213
        }
      ]
    },
    {
      "cell_type": "markdown",
      "source": [
        "# HW 3\n",
        "\n",
        "สร้าง array ที่เป็นรูป ต้น Christmas\n",
        "\n",
        "# **slice เลข 1 ออกมาจาก array HW3 ด้วยการ slice แค่ครั้งเดียว**"
      ],
      "metadata": {
        "id": "d9uOsr07lrcI"
      }
    },
    {
      "cell_type": "code",
      "source": [
        "import numpy as np"
      ],
      "metadata": {
        "id": "5ydW_3DWll8L"
      },
      "execution_count": 214,
      "outputs": []
    },
    {
      "cell_type": "code",
      "source": [
        "#สร้าง array ที่เป็นรูปต้น Christmas\n",
        "GT4 = np.ones((30,13))\n",
        "GT4"
      ],
      "metadata": {
        "id": "xvfG5w4xlvxr",
        "outputId": "41f0965b-93c0-4398-b765-877657f67232",
        "colab": {
          "base_uri": "https://localhost:8080/"
        }
      },
      "execution_count": 217,
      "outputs": [
        {
          "output_type": "execute_result",
          "data": {
            "text/plain": [
              "array([[1., 1., 1., 1., 1., 1., 1., 1., 1., 1., 1., 1., 1.],\n",
              "       [1., 1., 1., 1., 1., 1., 1., 1., 1., 1., 1., 1., 1.],\n",
              "       [1., 1., 1., 1., 1., 1., 1., 1., 1., 1., 1., 1., 1.],\n",
              "       [1., 1., 1., 1., 1., 1., 1., 1., 1., 1., 1., 1., 1.],\n",
              "       [1., 1., 1., 1., 1., 1., 1., 1., 1., 1., 1., 1., 1.],\n",
              "       [1., 1., 1., 1., 1., 1., 1., 1., 1., 1., 1., 1., 1.],\n",
              "       [1., 1., 1., 1., 1., 1., 1., 1., 1., 1., 1., 1., 1.],\n",
              "       [1., 1., 1., 1., 1., 1., 1., 1., 1., 1., 1., 1., 1.],\n",
              "       [1., 1., 1., 1., 1., 1., 1., 1., 1., 1., 1., 1., 1.],\n",
              "       [1., 1., 1., 1., 1., 1., 1., 1., 1., 1., 1., 1., 1.],\n",
              "       [1., 1., 1., 1., 1., 1., 1., 1., 1., 1., 1., 1., 1.],\n",
              "       [1., 1., 1., 1., 1., 1., 1., 1., 1., 1., 1., 1., 1.],\n",
              "       [1., 1., 1., 1., 1., 1., 1., 1., 1., 1., 1., 1., 1.],\n",
              "       [1., 1., 1., 1., 1., 1., 1., 1., 1., 1., 1., 1., 1.],\n",
              "       [1., 1., 1., 1., 1., 1., 1., 1., 1., 1., 1., 1., 1.],\n",
              "       [1., 1., 1., 1., 1., 1., 1., 1., 1., 1., 1., 1., 1.],\n",
              "       [1., 1., 1., 1., 1., 1., 1., 1., 1., 1., 1., 1., 1.],\n",
              "       [1., 1., 1., 1., 1., 1., 1., 1., 1., 1., 1., 1., 1.],\n",
              "       [1., 1., 1., 1., 1., 1., 1., 1., 1., 1., 1., 1., 1.],\n",
              "       [1., 1., 1., 1., 1., 1., 1., 1., 1., 1., 1., 1., 1.],\n",
              "       [1., 1., 1., 1., 1., 1., 1., 1., 1., 1., 1., 1., 1.],\n",
              "       [1., 1., 1., 1., 1., 1., 1., 1., 1., 1., 1., 1., 1.],\n",
              "       [1., 1., 1., 1., 1., 1., 1., 1., 1., 1., 1., 1., 1.],\n",
              "       [1., 1., 1., 1., 1., 1., 1., 1., 1., 1., 1., 1., 1.],\n",
              "       [1., 1., 1., 1., 1., 1., 1., 1., 1., 1., 1., 1., 1.],\n",
              "       [1., 1., 1., 1., 1., 1., 1., 1., 1., 1., 1., 1., 1.],\n",
              "       [1., 1., 1., 1., 1., 1., 1., 1., 1., 1., 1., 1., 1.],\n",
              "       [1., 1., 1., 1., 1., 1., 1., 1., 1., 1., 1., 1., 1.],\n",
              "       [1., 1., 1., 1., 1., 1., 1., 1., 1., 1., 1., 1., 1.],\n",
              "       [1., 1., 1., 1., 1., 1., 1., 1., 1., 1., 1., 1., 1.]])"
            ]
          },
          "metadata": {},
          "execution_count": 217
        }
      ]
    },
    {
      "cell_type": "code",
      "source": [
        "GT4[26:,1:7]=44\n",
        "GT4[23:,7:12]=44\n",
        "GT4[23:26,5:7]=44\n",
        "GT4[21:23,5:8]=44\n",
        "GT4[20,0:]=44\n",
        "GT4[19,1:12]=44\n",
        "GT4[18,2:11]=44\n",
        "GT4[17,3:10]=44\n",
        "GT4[16,4:9]=44\n",
        "GT4[15,1:12]=44\n",
        "GT4[14,2:11]=44\n",
        "GT4[13,3:10]=44\n",
        "GT4[12,4:9]=44\n",
        "GT4[11,5:8]=44\n",
        "GT4[10,2:11]=44\n",
        "GT4[9,3:10]=44\n",
        "GT4[8,4:9]=44\n",
        "GT4[7,5:8]=44\n",
        "GT4[4:7,6]=44\n",
        "GT4"
      ],
      "metadata": {
        "id": "pLmucZ6dmUj6",
        "outputId": "525cb9be-cd55-4aba-c66d-39da59540257",
        "colab": {
          "base_uri": "https://localhost:8080/"
        }
      },
      "execution_count": 221,
      "outputs": [
        {
          "output_type": "execute_result",
          "data": {
            "text/plain": [
              "array([[ 1.,  1.,  1.,  1.,  1.,  1.,  1.,  1.,  1.,  1.,  1.,  1.,  1.],\n",
              "       [ 1.,  1.,  1.,  1.,  1.,  1.,  1.,  1.,  1.,  1.,  1.,  1.,  1.],\n",
              "       [ 1.,  1.,  1.,  1.,  1.,  1.,  1.,  1.,  1.,  1.,  1.,  1.,  1.],\n",
              "       [ 1.,  1.,  1.,  1.,  1.,  1.,  1.,  1.,  1.,  1.,  1.,  1.,  1.],\n",
              "       [ 1.,  1.,  1.,  1.,  1.,  1., 44.,  1.,  1.,  1.,  1.,  1.,  1.],\n",
              "       [ 1.,  1.,  1.,  1.,  1.,  1., 44.,  1.,  1.,  1.,  1.,  1.,  1.],\n",
              "       [ 1.,  1.,  1.,  1.,  1.,  1., 44.,  1.,  1.,  1.,  1.,  1.,  1.],\n",
              "       [ 1.,  1.,  1.,  1.,  1., 44., 44., 44.,  1.,  1.,  1.,  1.,  1.],\n",
              "       [ 1.,  1.,  1.,  1., 44., 44., 44., 44., 44.,  1.,  1.,  1.,  1.],\n",
              "       [ 1.,  1.,  1., 44., 44., 44., 44., 44., 44., 44.,  1.,  1.,  1.],\n",
              "       [ 1.,  1., 44., 44., 44., 44., 44., 44., 44., 44., 44.,  1.,  1.],\n",
              "       [ 1.,  1.,  1.,  1.,  1., 44., 44., 44.,  1.,  1.,  1.,  1.,  1.],\n",
              "       [ 1.,  1.,  1.,  1., 44., 44., 44., 44., 44.,  1.,  1.,  1.,  1.],\n",
              "       [ 1.,  1.,  1., 44., 44., 44., 44., 44., 44., 44.,  1.,  1.,  1.],\n",
              "       [ 1.,  1., 44., 44., 44., 44., 44., 44., 44., 44., 44.,  1.,  1.],\n",
              "       [ 1., 44., 44., 44., 44., 44., 44., 44., 44., 44., 44., 44.,  1.],\n",
              "       [ 1.,  1.,  1.,  1., 44., 44., 44., 44., 44.,  1.,  1.,  1.,  1.],\n",
              "       [ 1.,  1.,  1., 44., 44., 44., 44., 44., 44., 44.,  1.,  1.,  1.],\n",
              "       [ 1.,  1., 44., 44., 44., 44., 44., 44., 44., 44., 44.,  1.,  1.],\n",
              "       [ 1., 44., 44., 44., 44., 44., 44., 44., 44., 44., 44., 44.,  1.],\n",
              "       [44., 44., 44., 44., 44., 44., 44., 44., 44., 44., 44., 44., 44.],\n",
              "       [ 1.,  1.,  1.,  1.,  1., 44., 44., 44.,  1.,  1.,  1.,  1.,  1.],\n",
              "       [ 1.,  1.,  1.,  1.,  1., 44., 44., 44.,  1.,  1.,  1.,  1.,  1.],\n",
              "       [ 1.,  1.,  1.,  1.,  1., 44., 44., 44., 44., 44., 44., 44.,  1.],\n",
              "       [ 1.,  1.,  1.,  1.,  1., 44., 44., 44., 44., 44., 44., 44.,  1.],\n",
              "       [ 1.,  1.,  1.,  1.,  1., 44., 44., 44., 44., 44., 44., 44.,  1.],\n",
              "       [ 1., 44., 44., 44., 44., 44., 44., 44., 44., 44., 44., 44.,  1.],\n",
              "       [ 1., 44., 44., 44., 44., 44., 44., 44., 44., 44., 44., 44.,  1.],\n",
              "       [ 1., 44., 44., 44., 44., 44., 44., 44., 44., 44., 44., 44.,  1.],\n",
              "       [ 1., 44., 44., 44., 44., 44., 44., 44., 44., 44., 44., 44.,  1.]])"
            ]
          },
          "metadata": {},
          "execution_count": 221
        }
      ]
    },
    {
      "cell_type": "code",
      "source": [
        "HW3 = np.zeros((10,10))\n",
        "HW3"
      ],
      "metadata": {
        "id": "03IgXJC9nYno",
        "outputId": "07936c48-3b99-4a64-b83c-408b11d035b0",
        "colab": {
          "base_uri": "https://localhost:8080/"
        }
      },
      "execution_count": 222,
      "outputs": [
        {
          "output_type": "execute_result",
          "data": {
            "text/plain": [
              "array([[0., 0., 0., 0., 0., 0., 0., 0., 0., 0.],\n",
              "       [0., 0., 0., 0., 0., 0., 0., 0., 0., 0.],\n",
              "       [0., 0., 0., 0., 0., 0., 0., 0., 0., 0.],\n",
              "       [0., 0., 0., 0., 0., 0., 0., 0., 0., 0.],\n",
              "       [0., 0., 0., 0., 0., 0., 0., 0., 0., 0.],\n",
              "       [0., 0., 0., 0., 0., 0., 0., 0., 0., 0.],\n",
              "       [0., 0., 0., 0., 0., 0., 0., 0., 0., 0.],\n",
              "       [0., 0., 0., 0., 0., 0., 0., 0., 0., 0.],\n",
              "       [0., 0., 0., 0., 0., 0., 0., 0., 0., 0.],\n",
              "       [0., 0., 0., 0., 0., 0., 0., 0., 0., 0.]])"
            ]
          },
          "metadata": {},
          "execution_count": 222
        }
      ]
    },
    {
      "cell_type": "code",
      "source": [
        "HW3[::4,2] = 1\n",
        "HW3[::4,4] = 1\n",
        "HW3[::4,6] = 1\n",
        "HW3[::4,8] = 1\n",
        "HW3"
      ],
      "metadata": {
        "id": "lPb2SG-4nx2n",
        "outputId": "9ce8eaaf-88d1-4e7a-9829-03174281471c",
        "colab": {
          "base_uri": "https://localhost:8080/"
        }
      },
      "execution_count": 223,
      "outputs": [
        {
          "output_type": "execute_result",
          "data": {
            "text/plain": [
              "array([[0., 0., 1., 0., 1., 0., 1., 0., 1., 0.],\n",
              "       [0., 0., 0., 0., 0., 0., 0., 0., 0., 0.],\n",
              "       [0., 0., 0., 0., 0., 0., 0., 0., 0., 0.],\n",
              "       [0., 0., 0., 0., 0., 0., 0., 0., 0., 0.],\n",
              "       [0., 0., 1., 0., 1., 0., 1., 0., 1., 0.],\n",
              "       [0., 0., 0., 0., 0., 0., 0., 0., 0., 0.],\n",
              "       [0., 0., 0., 0., 0., 0., 0., 0., 0., 0.],\n",
              "       [0., 0., 0., 0., 0., 0., 0., 0., 0., 0.],\n",
              "       [0., 0., 1., 0., 1., 0., 1., 0., 1., 0.],\n",
              "       [0., 0., 0., 0., 0., 0., 0., 0., 0., 0.]])"
            ]
          },
          "metadata": {},
          "execution_count": 223
        }
      ]
    },
    {
      "cell_type": "code",
      "source": [
        "# slice\n",
        "HW3[::4,2::2]"
      ],
      "metadata": {
        "id": "zwnMXCDSnzde",
        "outputId": "feaf555f-59a6-4339-e850-2483a5faefc2",
        "colab": {
          "base_uri": "https://localhost:8080/"
        }
      },
      "execution_count": 224,
      "outputs": [
        {
          "output_type": "execute_result",
          "data": {
            "text/plain": [
              "array([[1., 1., 1., 1.],\n",
              "       [1., 1., 1., 1.],\n",
              "       [1., 1., 1., 1.]])"
            ]
          },
          "metadata": {},
          "execution_count": 224
        }
      ]
    },
    {
      "cell_type": "markdown",
      "source": [
        "# Pandas Dataframe (แยกออกไปเป็น Notebook เฉพาะ)"
      ],
      "metadata": {
        "id": "9YrO3D_ln68u"
      }
    },
    {
      "cell_type": "code",
      "source": [
        ""
      ],
      "metadata": {
        "id": "xc0aQOHTn156"
      },
      "execution_count": null,
      "outputs": []
    }
  ]
}