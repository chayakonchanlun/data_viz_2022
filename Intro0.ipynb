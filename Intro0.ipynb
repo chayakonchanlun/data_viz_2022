{
  "nbformat": 4,
  "nbformat_minor": 0,
  "metadata": {
    "colab": {
      "name": "Intro0.ipynb",
      "provenance": [],
      "authorship_tag": "ABX9TyM+z64I2R1VWbvBnB+Y5vkF",
      "include_colab_link": true
    },
    "kernelspec": {
      "name": "python3",
      "display_name": "Python 3"
    },
    "language_info": {
      "name": "python"
    }
  },
  "cells": [
    {
      "cell_type": "markdown",
      "metadata": {
        "id": "view-in-github",
        "colab_type": "text"
      },
      "source": [
        "<a href=\"https://colab.research.google.com/github/chayakonchanlun/data_viz_2022/blob/main/Intro0.ipynb\" target=\"_parent\"><img src=\"https://colab.research.google.com/assets/colab-badge.svg\" alt=\"Open In Colab\"/></a>"
      ]
    },
    {
      "cell_type": "markdown",
      "source": [
        "Introduction to Basic Programing for Data Science and Data vizsualization"
      ],
      "metadata": {
        "id": "MgT36tsGGk-x"
      }
    },
    {
      "cell_type": "code",
      "execution_count": null,
      "metadata": {
        "colab": {
          "base_uri": "https://localhost:8080/"
        },
        "id": "WrtnQf_xGeRm",
        "outputId": "22549095-0416-46ce-ebf6-975fc36cd9ca"
      },
      "outputs": [
        {
          "output_type": "execute_result",
          "data": {
            "text/plain": [
              "3"
            ]
          },
          "metadata": {},
          "execution_count": 1
        }
      ],
      "source": [
        "a = 1\n",
        "b = 2\n",
        "a+b"
      ]
    },
    {
      "cell_type": "code",
      "source": [
        "print ('ชยากร จันทร์ลุน ID 623020517-9')"
      ],
      "metadata": {
        "colab": {
          "base_uri": "https://localhost:8080/"
        },
        "id": "R4sPAyXJHMna",
        "outputId": "398e86d4-1e39-4792-ccd0-33484aecb143"
      },
      "execution_count": null,
      "outputs": [
        {
          "output_type": "stream",
          "name": "stdout",
          "text": [
            "ชยากร จันทร์ลุน ID 623020517-9\n"
          ]
        }
      ]
    },
    {
      "cell_type": "code",
      "source": [
        "aaaaa = 2\n",
        "bb = 3"
      ],
      "metadata": {
        "id": "skO2yhw_H6e1"
      },
      "execution_count": null,
      "outputs": []
    },
    {
      "cell_type": "code",
      "source": [
        ""
      ],
      "metadata": {
        "id": "x5jiqf4qH-oE"
      },
      "execution_count": null,
      "outputs": []
    }
  ]
}